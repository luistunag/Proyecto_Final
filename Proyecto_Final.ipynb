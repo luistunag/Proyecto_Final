{
 "cells": [
  {
   "cell_type": "code",
   "execution_count": 2,
   "id": "1dbfe472-6333-43b9-8cd7-6d43646be35e",
   "metadata": {
    "collapsed": false
   },
   "outputs": [],
   "source": [
    "import boto3\n",
    "import pandas as pd\n",
    "import numpy as np\n",
    "import psycopg2\n",
    "import configparser"
   ]
  },
  {
   "cell_type": "markdown",
   "id": "587ca4be-fbc6-4016-a693-a5323837ffe2",
   "metadata": {
    "collapsed": false
   },
   "source": [
    "## Leemos archivo de configuración\n"
   ]
  },
  {
   "cell_type": "code",
   "execution_count": 16,
   "id": "715ad5cf-ea17-479c-9523-033dbb8aabdd",
   "metadata": {
    "collapsed": false
   },
   "outputs": [
    {
     "data": {
      "text/plain": [
       "['config.cfg']"
      ]
     },
     "execution_count": 16,
     "metadata": {},
     "output_type": "execute_result"
    }
   ],
   "source": [
    "config = configparser.ConfigParser()\n",
    "config.read('config.cfg')"
   ]
  },
  {
   "cell_type": "markdown",
   "id": "87775b66-310e-4ba6-a354-07bf4c4f99e1",
   "metadata": {
    "collapsed": false
   },
   "source": [
    "## Nos identificamos con AWS\n"
   ]
  },
  {
   "cell_type": "code",
   "execution_count": 13,
   "id": "cb96bdd3-aabe-45e5-ae10-1747c71e02a3",
   "metadata": {
    "collapsed": false
   },
   "outputs": [],
   "source": [
    "aws_rds_connection = boto3.client('rds', aws_access_key_id=config.get('IAM', 'ACCESS_KEY'),\n",
    "                              aws_secret_access_key=config.get('IAM', 'SECRET_ACCESS_KEY'),\n",
    "                              region_name='us-east-2')"
   ]
  },
  {
   "cell_type": "markdown",
   "id": "5b412d88-bb9f-4404-a26f-6c14b3ceb869",
   "metadata": {
    "collapsed": false
   },
   "source": [
    "## Verificamos instancias de AWS disponibles en el usuario\n"
   ]
  },
  {
   "cell_type": "code",
   "execution_count": 14,
   "id": "8392ddd8-a494-4c16-9a2d-c891fa6a51f4",
   "metadata": {
    "collapsed": false
   },
   "outputs": [
    {
     "name": "stdout",
     "output_type": "stream",
     "text": [
      "Instancias Disponibles: []\n"
     ]
    }
   ],
   "source": [
    "rds_instances_ids = []\n",
    "\n",
    "aws_response = aws_rds_connection.describe_db_instances()\n",
    "\n",
    "for response in aws_response['DBInstances']:\n",
    "    rds_instances_ids.apped(response['DBInstanceIdentifier'])\n",
    "\n",
    "print(f\"Instancias Disponibles: {rds_instances_ids}\")"
   ]
  },
  {
   "cell_type": "markdown",
   "id": "3b062daa-5661-49dc-ad69-46b4f778be2d",
   "metadata": {
    "collapsed": false
   },
   "source": [
    "## Creamos instancia de base de datos en AWS - PostGres\n"
   ]
  },
  {
   "cell_type": "code",
   "execution_count": 19,
   "id": "2fa58a25-75f2-4216-b467-921624c4d329",
   "metadata": {
    "collapsed": false
   },
   "outputs": [],
   "source": [
    "try:\n",
    "    response = aws_rds_connection.create_db_instance(\n",
    "        DBInstanceIdentifier=config.get('TRANSACC', 'DB_INSTANCE_ID'),\n",
    "        DBName=config.get('TRANSACC', 'DB_NAME'),\n",
    "        DBInstanceClass='db.t3.micro',\n",
    "        Engine='postgres',\n",
    "        MasterUsername=config.get('TRANSACC', 'DB_USER'),\n",
    "        MasterUserPassword=config.get('TRANSACC', 'DB_PASSWORD'),\n",
    "        Port=int(config.get('TRANSACC', 'DB_PORT')),\n",
    "        PubliclyAccessible=True,\n",
    "        VpcSecurityGroupIds=[config.get('VPC', 'SECURITY_GROUP')],\n",
    "        AllocatedStorage=15\n",
    "    )\n",
    "    print(response)\n",
    "except aws_rds_connection.exceptions.DBInstanceAlreadyExistsFault as ex:\n",
    "    print(\"La instancia ya existe\")\n",
    "except Exception as ex:\n",
    "    print(\"Error!\", ex)"
   ]
  },
  {
   "cell_type": "markdown",
   "id": "30235b48-2f20-4d0b-bd9c-df2ecd1109a0",
   "metadata": {
    "collapsed": false
   },
   "source": [
    "## Obtenemos el hostname de la instancia\n"
   ]
  },
  {
   "cell_type": "code",
   "execution_count": 21,
   "id": "8f2a0a95-34dd-44f3-98d3-30f680fab2bc",
   "metadata": {
    "collapsed": false
   },
   "outputs": [
    {
     "name": "stdout",
     "output_type": "stream",
     "text": [
      "tienda-transactional.cjykcg6gmirx.us-east-2.rds.amazonaws.com\n"
     ]
    }
   ],
   "source": [
    "try:\n",
    "    instance = aws_rds_connection.describe_db_instances(DBInstanceIdentifier=config.get('TRANSACC', 'DB_INSTANCE_ID'))\n",
    "    RDS_HOSTNAME = instance.get('DBInstances')[0].get('Endpoint').get('Address')\n",
    "    print(RDS_HOSTNAME)\n",
    "except Exception as ex:\n",
    "    print(\"Error!!\", ex)"
   ]
  },
  {
   "cell_type": "markdown",
   "id": "06e8b4fe-f83a-46aa-b562-e9dc970eb44e",
   "metadata": {
    "collapsed": false
   },
   "source": [
    "## Nos conectamos a la base de datos desde Python\n"
   ]
  },
  {
   "cell_type": "code",
   "execution_count": 23,
   "id": "eae2fccf-b86c-4516-92fb-31c21b2d34fe",
   "metadata": {
    "collapsed": true
   },
   "outputs": [
    {
     "data": {
      "text/plain": [
       "'\\nCREATE TABLE IF NOT EXISTS tipo_transacciones(\\n    id_tipo_transac INT PRIMARY KEY,\\n    tipo_transaccion VARCHAR(15) UNIQUE\\n);\\n\\nCREATE TABLE IF NOT EXISTS divisas(\\n    id_divisa INT PRIMARY KEY,\\n    nombre_divisa VARCHAR(15) UNIQUE,\\n    simbolo VARCHAR(2) UNIQUE\\n);\\n\\nCREATE TABLE IF NOT EXISTS tipo_documentos(\\n    id_tipo_documento INT PRIMARY KEY,\\n    nombre_tipo_documento VARCHAR(15) UNIQUE\\n);\\n\\nCREATE TABLE IF NOT EXISTS documentos(\\n    id_documento INT PRIMARY KEY,\\n    nombre_documento VARCHAR(50),\\n    uri_documento VARCHAR(100),\\n    fecha_hora_emision TIMESTAMP,\\n    tipo_documento INT,\\n\\n    CONSTRAINT fk_tipo_documento\\n        FOREIGN KEY (tipo_documento)\\n            REFERENCES tipo_documentos(id_tipo_documento)\\n\\n);\\n\\nCREATE TABLE IF NOT EXISTS generos(\\n    id_genero INT PRIMARY KEY,\\n    genero VARCHAR(10) UNIQUE\\n);\\n\\nCREATE TABLE IF NOT EXISTS sectores(\\n    id_sector INT PRIMARY KEY,\\n    nombre VARCHAR(50) UNIQUE,\\n    latitud DOUBLE PRECISION,\\n    longitud DOUBLE PRECISION\\n);\\n\\nCREATE TABLE IF NOT EXISTS direcciones(\\n    id_direccion INT PRIMARY KEY,\\n    no_casa VARCHAR(15),\\n    avenida VARCHAR(50),\\n    calle VARCHAR(50),\\n    zona INT,\\n    id_sector INT,\\n\\n    CONSTRAINT fk_direccion_sector\\n        FOREIGN KEY (id_sector)\\n            REFERENCES sectores(id_sector)\\n);\\n\\nCREATE TABLE IF NOT EXISTS cargos(\\n    id_cargo INT PRIMARY KEY,\\n    titulo_cargo VARCHAR(50)\\n);\\n\\nCREATE TABLE IF NOT EXISTS colaboradores(\\n    id_colaborador INT PRIMARY KEY,\\n    nombre VARCHAR(30),\\n    apellido VARCHAR(30),\\n    id_cargo INT,\\n\\n    CONSTRAINT fk_cargo_colaborador\\n        FOREIGN KEY (id_cargo)\\n            REFERENCES cargos(id_cargo)\\n);\\n\\nCREATE TABLE IF NOT EXISTS sucursales(\\n    id_sucursal INT PRIMARY KEY,\\n    nombre VARCHAR(50),\\n    id_sector INT,\\n    id_gerente INT,\\n\\n    CONSTRAINT fk_sucursal_sector\\n        FOREIGN KEY (id_sector)\\n            REFERENCES sectores(id_sector),\\n\\n    CONSTRAINT fk_sucursal_colaborador\\n        FOREIGN KEY (id_gerente)\\n            REFERENCES colaboradores(id_colaborador)\\n);\\n\\nCREATE TABLE IF NOT EXISTS tipos_cuentas(\\n    id_tipo_cuenta INT PRIMARY KEY,\\n    tipo_cuenta VARCHAR(50) UNIQUE\\n);\\n\\nCREATE TABLE IF NOT EXISTS clientes(\\n    id_cliente INT PRIMARY KEY,\\n    nombre VARCHAR(100),\\n    apellido VARCHAR(100),\\n    correo VARCHAR(100),\\n    fecha_nacimiento DATE,\\n    telefono VARCHAR(20),\\n    id_direccion INT,\\n    id_genero INT,\\n\\n    CONSTRAINT fk_clientes_generos\\n        FOREIGN KEY (id_genero)\\n            REFERENCES generos(id_genero),\\n\\n    CONSTRAINT fk_cliente_direccion\\n        FOREIGN KEY (id_direccion)\\n            REFERENCES direcciones(id_direccion)\\n);\\n\\nCREATE TABLE IF NOT EXISTS cuentas(\\n    id_cuenta INT PRIMARY KEY,\\n    nombre_cuenta VARCHAR(100),\\n    balance DOUBLE PRECISION,\\n    id_tipo_cuenta INT,\\n    id_cliente INT,\\n\\n    CONSTRAINT fk_cuentas_tipo_cuentas\\n        FOREIGN KEY (id_tipo_cuenta)\\n            REFERENCES tipos_cuentas(id_tipo_cuenta),\\n    \\n    CONSTRAINT fk_cuentas_clientes\\n        FOREIGN KEY (id_cliente)\\n            REFERENCES clientes(id_cliente)\\n);\\n\\nCREATE TABLE IF NOT EXISTS transacciones(\\n    id_transaccion BIGINT PRIMARY KEY,\\n    fecha_hora TIMESTAMP,\\n    monto DOUBLE PRECISION,\\n\\n    id_tipo_transaccion INT,\\n    id_divisa INT,\\n    id_cliente INT,\\n    id_documento_respaldo INT,\\n    id_sucursal INT,\\n    id_colaborador INT,\\n    id_cuenta_origen INT,\\n    id_cuenta_destino INT,\\n\\n    CONSTRAINT fk_tipo_transaccion_transaccion\\n        FOREIGN KEY (id_tipo_transaccion)\\n            REFERENCES tipo_transacciones(id_tipo_transac),\\n\\n    CONSTRAINT fk_tipo_divisa_transaccion\\n        FOREIGN KEY (id_divisa)\\n            REFERENCES divisas(id_divisa),\\n\\n    CONSTRAINT fk_cliente_transaccion\\n        FOREIGN KEY (id_cliente)\\n            REFERENCES clientes(id_cliente),\\n\\n    CONSTRAINT fk_documento_transaccion\\n        FOREIGN KEY (id_documento_respaldo)\\n            REFERENCES tipo_documentos(id_tipo_documento),\\n\\n    CONSTRAINT fk_sucursal_transaccion\\n        FOREIGN KEY (id_sucursal)\\n            REFERENCES sucursales(id_sucursal),\\n\\n    CONSTRAINT fk_colaborador_transaccion\\n        FOREIGN KEY (id_colaborador)\\n            REFERENCES colaboradores(id_colaborador),\\n\\n    CONSTRAINT fk_cuentaOrigen_transaccion\\n        FOREIGN KEY (id_cuenta_origen)\\n            REFERENCES cuentas(id_cuenta),\\n\\n    CONSTRAINT fk_cuentaDestino_transaccion\\n        FOREIGN KEY (id_cuenta_destino)\\n            REFERENCES cuentas(id_cuenta)\\n);\\n\\nSELECT * FROM tipo_transacciones;\\nSELECT * FROM divisas; '"
      ]
     },
     "execution_count": 23,
     "metadata": {},
     "output_type": "execute_result"
    }
   ],
   "source": [
    "import sql_queries\n",
    "sql_queries.DDL_QUERY"
   ]
  },
  {
   "cell_type": "code",
   "execution_count": null,
   "id": "ec67caa7-fd3a-49ae-985f-4500f4340662",
   "metadata": {
    "collapsed": false
   },
   "outputs": [],
   "source": [
    "try:\n",
    "    db_pg_conn = psycopg2.connect(\n",
    "        database=config.get('TRANSACC', 'DB_NAME'),\n",
    "        user=config.get('TRANSACC', 'DB_USER'),\n",
    "        password=config.get('TRANSACC', 'DB_PASSWORD'),\n",
    "        host=RDS_HOSTNAME,\n",
    "        port=int(config.get('TRANSACC', 'DB_PORT'))\n",
    "    )\n",
    "    cursor = db_pg_conn.cursor()\n",
    "    cursor.execute(sql_queries.DDL_QUERY)\n",
    "    db_pg_conn.commit()\n",
    "    print(\"Base de Datos Creada Exitosamente\")\n",
    "except Exceptions as ex:\n",
    "    print(\"Error!\", ex)"
   ]
  }
 ],
 "metadata": {
  "kernelspec": {
   "argv": [
    "/Users/luistun/anaconda3/bin/python",
    "-m",
    "ipykernel_launcher",
    "-f",
    "{connection_file}"
   ],
   "display_name": "Python 3 (ipykernel)",
   "env": null,
   "interrupt_mode": "signal",
   "language": "python",
   "metadata": {
    "debugger": true
   },
   "name": "python3"
  },
  "name": "Proyecto_Final.ipynb"
 },
 "nbformat": 4,
 "nbformat_minor": 5
}
