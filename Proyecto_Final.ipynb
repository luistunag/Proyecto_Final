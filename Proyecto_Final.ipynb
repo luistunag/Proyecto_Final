{
 "cells": [
  {
   "cell_type": "code",
   "execution_count": 1,
   "id": "1dbfe472-6333-43b9-8cd7-6d43646be35e",
   "metadata": {
    "collapsed": false
   },
   "outputs": [],
   "source": [
    "import boto3\n",
    "import pandas as pd\n",
    "import numpy as np\n",
    "import psycopg2\n",
    "import configparser"
   ]
  },
  {
   "cell_type": "markdown",
   "id": "587ca4be-fbc6-4016-a693-a5323837ffe2",
   "metadata": {
    "collapsed": false
   },
   "source": [
    "## Leemos archivo de configuración\n"
   ]
  },
  {
   "cell_type": "code",
   "execution_count": 2,
   "id": "715ad5cf-ea17-479c-9523-033dbb8aabdd",
   "metadata": {
    "collapsed": false
   },
   "outputs": [
    {
     "data": {
      "text/plain": [
       "['config.cfg']"
      ]
     },
     "execution_count": 2,
     "metadata": {},
     "output_type": "execute_result"
    }
   ],
   "source": [
    "config = configparser.ConfigParser()\n",
    "config.read('config.cfg')"
   ]
  },
  {
   "cell_type": "markdown",
   "id": "87775b66-310e-4ba6-a354-07bf4c4f99e1",
   "metadata": {
    "collapsed": false
   },
   "source": [
    "## Nos identificamos con AWS\n"
   ]
  },
  {
   "cell_type": "code",
   "execution_count": 3,
   "id": "cb96bdd3-aabe-45e5-ae10-1747c71e02a3",
   "metadata": {
    "collapsed": false
   },
   "outputs": [],
   "source": [
    "aws_rds_connection = boto3.client('rds', aws_access_key_id=config.get('IAM', 'ACCESS_KEY'),\n",
    "                              aws_secret_access_key=config.get('IAM', 'SECRET_ACCESS_KEY'),\n",
    "                              region_name='us-east-2')"
   ]
  },
  {
   "cell_type": "markdown",
   "id": "5b412d88-bb9f-4404-a26f-6c14b3ceb869",
   "metadata": {
    "collapsed": false
   },
   "source": [
    "## Verificamos instancias de AWS disponibles en el usuario\n"
   ]
  },
  {
   "cell_type": "code",
   "execution_count": 4,
   "id": "8392ddd8-a494-4c16-9a2d-c891fa6a51f4",
   "metadata": {
    "collapsed": false
   },
   "outputs": [
    {
     "name": "stdout",
     "output_type": "stream",
     "text": [
      "Instancias Disponibles: ['tienda-transactional']\n"
     ]
    }
   ],
   "source": [
    "rds_instances_ids = []\n",
    "\n",
    "aws_response = aws_rds_connection.describe_db_instances()\n",
    "\n",
    "for response in aws_response['DBInstances']:\n",
    "    rds_instances_ids.append(response['DBInstanceIdentifier'])\n",
    "\n",
    "print(f\"Instancias Disponibles: {rds_instances_ids}\")"
   ]
  },
  {
   "cell_type": "markdown",
   "id": "3b062daa-5661-49dc-ad69-46b4f778be2d",
   "metadata": {
    "collapsed": false
   },
   "source": [
    "## Creamos instancia de base de datos en AWS - PostGres\n"
   ]
  },
  {
   "cell_type": "code",
   "execution_count": 5,
   "id": "2fa58a25-75f2-4216-b467-921624c4d329",
   "metadata": {
    "collapsed": false
   },
   "outputs": [
    {
     "name": "stdout",
     "output_type": "stream",
     "text": [
      "La instancia ya existe\n"
     ]
    }
   ],
   "source": [
    "try:\n",
    "    response = aws_rds_connection.create_db_instance(\n",
    "        DBInstanceIdentifier=config.get('TRANSACC', 'DB_INSTANCE_ID'),\n",
    "        DBName=config.get('TRANSACC', 'DB_NAME'),\n",
    "        DBInstanceClass='db.t3.micro',\n",
    "        Engine='postgres',\n",
    "        MasterUsername=config.get('TRANSACC', 'DB_USER'),\n",
    "        MasterUserPassword=config.get('TRANSACC', 'DB_PASSWORD'),\n",
    "        Port=int(config.get('TRANSACC', 'DB_PORT')),\n",
    "        PubliclyAccessible=True,\n",
    "        VpcSecurityGroupIds=[config.get('VPC', 'SECURITY_GROUP')],\n",
    "        AllocatedStorage=15\n",
    "    )\n",
    "    print(response)\n",
    "except aws_rds_connection.exceptions.DBInstanceAlreadyExistsFault as ex:\n",
    "    print(\"La instancia ya existe\")\n",
    "except Exception as ex:\n",
    "    print(\"Error!\", ex)"
   ]
  },
  {
   "cell_type": "markdown",
   "id": "30235b48-2f20-4d0b-bd9c-df2ecd1109a0",
   "metadata": {
    "collapsed": false
   },
   "source": [
    "## Obtenemos el hostname de la instancia\n"
   ]
  },
  {
   "cell_type": "code",
   "execution_count": 6,
   "id": "8f2a0a95-34dd-44f3-98d3-30f680fab2bc",
   "metadata": {
    "collapsed": false
   },
   "outputs": [
    {
     "name": "stdout",
     "output_type": "stream",
     "text": [
      "tienda-transactional.cjykcg6gmirx.us-east-2.rds.amazonaws.com\n"
     ]
    }
   ],
   "source": [
    "try:\n",
    "    instance = aws_rds_connection.describe_db_instances(DBInstanceIdentifier=config.get('TRANSACC', 'DB_INSTANCE_ID'))\n",
    "    RDS_HOSTNAME = instance.get('DBInstances')[0].get('Endpoint').get('Address')\n",
    "    print(RDS_HOSTNAME)\n",
    "except Exception as ex:\n",
    "    print(\"Error!!\", ex)"
   ]
  },
  {
   "cell_type": "markdown",
   "id": "06e8b4fe-f83a-46aa-b562-e9dc970eb44e",
   "metadata": {
    "collapsed": false
   },
   "source": [
    "## Nos conectamos a la base de datos desde Python\n"
   ]
  },
  {
   "cell_type": "code",
   "execution_count": 7,
   "id": "eae2fccf-b86c-4516-92fb-31c21b2d34fe",
   "metadata": {
    "collapsed": false
   },
   "outputs": [
    {
     "data": {
      "text/plain": [
       "'\\nCREATE TABLE IF NOT EXISTS categoria(\\n    idcategoria INT PRIMARY KEY,\\n    nombre VARCHAR(50),\\n    descripcion VARCHAR(255),\\n    estado BIT\\n);\\n\\nCREATE TABLE IF NOT EXISTS articulo(\\n    idarticulo INT PRIMARY KEY,\\n    idcategoria INT,\\n    codigo VARCHAR(50),\\n    nombre VARCHAR(100),\\n    precio_venta DECIMAL(11, 2),\\n    stock INT,\\n    descripcion VARCHAR(255),\\n    imagen VARCHAR(20),\\n    estado BIT,\\n    FOREIGN KEY (idcategoria) REFERENCES categoria(idcategoria)\\n);\\n\\nCREATE TABLE IF NOT EXISTS persona(\\n    idpersona INT PRIMARY KEY,\\n    tipo_persona VARCHAR(20),\\n    nombre VARCHAR(100),\\n    tipo_documento VARCHAR(20),\\n    num_documento VARCHAR(20),\\n    direccion VARCHAR(70),\\n    telefono VARCHAR(20),\\n    email VARCHAR(50)\\n);\\n\\nCREATE TABLE IF NOT EXISTS rol(\\n    idrol INT PRIMARY KEY,\\n    nombre VARCHAR(30),\\n    descripcion VARCHAR(255),\\n    estado BIT\\n);\\n\\nCREATE TABLE IF NOT EXISTS usuario(\\n    idusuario INT PRIMARY KEY,\\n    idrol INT,\\n    nombre VARCHAR(100),\\n    tipo_documento VARCHAR(20),\\n    num_documento VARCHAR(20),\\n    direccion VARCHAR(70),\\n    telefono VARCHAR(20),\\n    email VARCHAR(50),\\n    clave BYTEA,\\n    estado BIT,\\n    FOREIGN KEY (idrol) REFERENCES rol(idrol)\\n);\\n\\nCREATE TABLE IF NOT EXISTS venta(\\n    idventa INT PRIMARY KEY,\\n    idcliente INT,\\n    idusuario INT,\\n    tipo_comprobante VARCHAR(20),\\n    serie_comprobante VARCHAR(7),\\n    num_comprobante VARCHAR(10),\\n    fecha DATE,\\n    impuesto DECIMAL(4, 2),\\n    total DECIMAL(11, 2),\\n    estado VARCHAR(20),\\n    FOREIGN KEY (idcliente) REFERENCES persona(idpersona),\\n    FOREIGN KEY (idusuario) REFERENCES usuario(idusuario)\\n);\\n\\nCREATE TABLE IF NOT EXISTS detalle_venta(\\n    iddetalle_venta INT PRIMARY KEY,\\n    idventa INT,\\n    idarticulo INT,\\n    cantidad INT,\\n    precio DECIMAL(11, 2),\\n    descuento DECIMAL(11, 2),\\n    FOREIGN KEY (idventa) REFERENCES venta(idventa),\\n    FOREIGN KEY (idarticulo) REFERENCES articulo(idarticulo)\\n);\\n\\nCREATE TABLE IF NOT EXISTS ingreso(\\n    idingreso INT PRIMARY KEY,\\n    idproveedor INT,\\n    idusuario INT,\\n    tipo_comprobante VARCHAR(20),\\n    serie_comprobante VARCHAR(7),\\n    num_comprobante VARCHAR(10),\\n    fecha DATE,\\n    impuesto DECIMAL(4, 2),\\n    total DECIMAL(11, 2),\\n    estado VARCHAR(20),\\n    FOREIGN KEY (idproveedor) REFERENCES persona(idpersona),\\n    FOREIGN KEY (idusuario) REFERENCES usuario(idusuario)\\n);\\n\\nCREATE TABLE IF NOT EXISTS detalle_ingreso(\\n    iddetalle_ingreso INT PRIMARY KEY,\\n    idingreso INT,\\n    idarticulo INT,\\n    cantidad INT,\\n    precio DECIMAL(11, 2),\\n    FOREIGN KEY (idingreso) REFERENCES ingreso(idingreso),\\n    FOREIGN KEY (idarticulo) REFERENCES articulo(idarticulo)\\n);\\n\\nSELECT * FROM categoria;\\nSELECT * FROM articulo; '"
      ]
     },
     "execution_count": 7,
     "metadata": {},
     "output_type": "execute_result"
    }
   ],
   "source": [
    "import sql_queries\n",
    "sql_queries.DDL_QUERY"
   ]
  },
  {
   "cell_type": "code",
   "execution_count": 8,
   "id": "ec67caa7-fd3a-49ae-985f-4500f4340662",
   "metadata": {
    "collapsed": false
   },
   "outputs": [
    {
     "name": "stdout",
     "output_type": "stream",
     "text": [
      "Base de Datos Creada Exitosamente\n"
     ]
    }
   ],
   "source": [
    "try:\n",
    "    db_pg_conn = psycopg2.connect(\n",
    "        database=config.get('TRANSACC', 'DB_NAME'),\n",
    "        user=config.get('TRANSACC', 'DB_USER'),\n",
    "        password=config.get('TRANSACC', 'DB_PASSWORD'),\n",
    "        host=RDS_HOSTNAME,\n",
    "        port=int(config.get('TRANSACC', 'DB_PORT'))\n",
    "    )\n",
    "    cursor = db_pg_conn.cursor()\n",
    "    cursor.execute(sql_queries.DDL_QUERY)\n",
    "    db_pg_conn.commit()\n",
    "    print(\"Base de Datos Creada Exitosamente\")\n",
    "except Exception as ex:\n",
    "    print(\"Error!\", ex)"
   ]
  },
  {
   "cell_type": "markdown",
   "id": "c27af10b-d434-4d76-956b-4e59fccfa90c",
   "metadata": {
    "collapsed": false
   },
   "source": [
    "## Insertamos datos en la base de datos"
   ]
  },
  {
   "cell_type": "code",
   "execution_count": 9,
   "id": "a8d8ab52-eff4-43b7-8dd5-17b62460e45f",
   "metadata": {
    "collapsed": false
   },
   "outputs": [],
   "source": [
    "def insertData2SQL(data_dict, table_name, driver):\n",
    "\n",
    "    df_data = pd.DataFrame.from_records(data_dict)\n",
    "    try:\n",
    "        response = df_data.to_sql(table_name, driver, index=False, if_exists='append')\n",
    "        print(f\"Se han insertado {response} nuevos registros\")\n",
    "    except Exception as ex:\n",
    "        print(ex)"
   ]
  },
  {
   "cell_type": "code",
   "execution_count": 10,
   "id": "6fea98e1-adf8-47d3-892b-3e0fe9914afe",
   "metadata": {
    "collapsed": false
   },
   "outputs": [],
   "source": [
    "def insertData2SQL_categoria(data_dict, table_name, driver):\n",
    "    df_data = pd.DataFrame.from_records(data_dict)\n",
    "    try:\n",
    "        for index, row in df_data.iterrows():\n",
    "            estado_value = \"'1'\" if row.to_dict()['estado'] else \"'0'\"\n",
    "            query = f\"INSERT INTO {table_name} VALUES ({row.to_dict()['idcategoria']}, '{row.to_dict()['nombre']}', '{row.to_dict()['descripcion']}', CAST({estado_value} AS BIT))\"\n",
    "            cursor.execute(query)\n",
    "        db_pg_conn.commit()\n",
    "        print(f\"Se han insertado {len(df_data)} nuevos registros\")\n",
    "    except Exception as ex:\n",
    "        print(ex)"
   ]
  },
  {
   "cell_type": "code",
   "execution_count": 11,
   "id": "c210cc81-fc3d-4867-89c2-b476f8f01958",
   "metadata": {
    "collapsed": false
   },
   "outputs": [],
   "source": [
    "def insertData2SQL_rol(data_dict, table_name, driver):\n",
    "    df_data = pd.DataFrame.from_records(data_dict)\n",
    "    try:\n",
    "        for index, row in df_data.iterrows():\n",
    "            estado_value = \"'1'\" if row.to_dict()['estado'] else \"'0'\"\n",
    "            query = f\"INSERT INTO {table_name} VALUES ({row.to_dict()['idrol']}, '{row.to_dict()['nombre']}', '{row.to_dict()['descripcion']}', CAST({estado_value} AS BIT))\"\n",
    "            cursor.execute(query)\n",
    "        db_pg_conn.commit()\n",
    "        print(f\"Se han insertado {len(df_data)} nuevos registros en la tabla {table_name}\")\n",
    "    except Exception as ex:\n",
    "        print(ex)"
   ]
  },
  {
   "cell_type": "code",
   "execution_count": 12,
   "id": "4ccf9719-2871-4d7e-a72e-e3225ee1d244",
   "metadata": {
    "collapsed": false
   },
   "outputs": [],
   "source": [
    "def insertData2SQL_articulo(data_dict, table_name, driver):\n",
    "    df_data = pd.DataFrame.from_records(data_dict)\n",
    "    try:\n",
    "        for index, row in df_data.iterrows():\n",
    "            estado_value = \"'1'\" if row.to_dict()['estado'] else \"'0'\"\n",
    "            query = f\"INSERT INTO {table_name} VALUES ({row.to_dict()['idarticulo']}, '{row.to_dict()['idcategoria']}', '{row.to_dict()['codigo']}', '{row.to_dict()['nombre']}', '{row.to_dict()['precio_venta']}', '{row.to_dict()['stock']}', '{row.to_dict()['descripcion']}', '{row.to_dict()['imagen']}', CAST({estado_value} AS BIT))\"\n",
    "            cursor.execute(query)\n",
    "        db_pg_conn.commit()\n",
    "        print(f\"Se han insertado {len(df_data)} nuevos registros en la tabla {table_name}\")\n",
    "    except Exception as ex:\n",
    "        print(ex)"
   ]
  },
  {
   "cell_type": "code",
   "execution_count": 13,
   "id": "aac2fafc-baaa-4338-bda3-b05a535927f7",
   "metadata": {
    "collapsed": false
   },
   "outputs": [],
   "source": [
    "driver = f\"\"\"postgresql://{config.get('TRANSACC', 'DB_USER')}:{config.get('TRANSACC', 'DB_PASSWORD')}@{RDS_HOSTNAME}:{config.get('TRANSACC', 'DB_PORT')}/{config.get('TRANSACC', 'DB_NAME')}\"\"\""
   ]
  },
  {
   "cell_type": "markdown",
   "id": "1719d205-2ba8-4c62-bf8e-d9ff892da6ff",
   "metadata": {
    "collapsed": false
   },
   "source": [
    "# Agregando datos a la tabla categoria"
   ]
  },
  {
   "cell_type": "code",
   "execution_count": 14,
   "id": "39d55756-df5a-42c2-babb-429171bc1829",
   "metadata": {
    "collapsed": false
   },
   "outputs": [
    {
     "name": "stdout",
     "output_type": "stream",
     "text": [
      "Se han insertado 10 nuevos registros\n"
     ]
    }
   ],
   "source": [
    "data_categoria = [\n",
    "    {'idcategoria': 39582, 'nombre': 'Ropa y Accesorios', 'descripcion': 'Incluye prendas de vestir para hombres, mujeres y ninos, asi como accesorios como bolsos, sombreros, bufandas, etc.', 'estado': True},\n",
    "    {'idcategoria': 82016, 'nombre': 'Calzado', 'descripcion': 'Incluye zapatos formales, tenis, botas, sandalias, para hombres, mujeres y ninos.', 'estado': True},\n",
    "    {'idcategoria': 51470, 'nombre': 'Juguetes y Juegos', 'descripcion': 'Una amplia gama de juguetes para ninos de todas las edades, asi como juegos de mesa y articulos deportivos.', 'estado': True},\n",
    "    {'idcategoria': 75369, 'nombre': 'Electronicos', 'descripcion': 'Desde telefonos moviles, computadoras portatiles y tabletas hasta accesorios como auriculares, cargadores y fundas.', 'estado': True},\n",
    "    {'idcategoria': 20934, 'nombre': 'Mascotas', 'descripcion': 'Ofrece productos para el cuidado de mascotas, alimentos, juguetes y accesorios para perros, gatos y otras mascotas.', 'estado': True},\n",
    "    {'idcategoria': 64218, 'nombre': 'Alimentos y Bebidas', 'descripcion': 'Desde alimentos enlatados y productos secos hasta bebidas como vinos, cervezas artesanales y licores.', 'estado': True},\n",
    "    {'idcategoria': 13750, 'nombre': 'Libros y Papeleria', 'descripcion': 'Ofrece una selección de libros para todas las edades y generos, asi como suministros de papeleria como cuadernos, bolígrafos y lapices.', 'estado': True},\n",
    "    {'idcategoria': 40879, 'nombre': 'Belleza y Cuidado Personal', 'descripcion': 'Incluye productos de cuidado de la piel, maquillaje, perfumes, asi como herramientas y accesorios para el cuidado del cabello.', 'estado': True},\n",
    "    {'idcategoria': 97521, 'nombre': 'Joyeria', 'descripcion': 'Desde anillos, pulseras y collares hasta relojes y joyeria personalizada.', 'estado': True},\n",
    "    {'idcategoria': 32684, 'nombre': 'Hogar y Decoracion', 'descripcion': 'Ofrece muebles para el hogar, articulos de decoracion como cuadros y jarrones, asi como utensilios de cocina y electrodomesticos.', 'estado': True}\n",
    "]\n",
    "\n",
    "# Insertamos data en la tabla categoria\n",
    "insertData2SQL_categoria(data_categoria, 'categoria', driver)"
   ]
  },
  {
   "cell_type": "markdown",
   "id": "bba13eee-076d-43a0-ad10-fcfc655c17b4",
   "metadata": {
    "collapsed": false
   },
   "source": [
    "# Agregando datos a la tabla rol\n"
   ]
  },
  {
   "cell_type": "code",
   "execution_count": 15,
   "id": "6c71dbab-5421-46b2-bece-deae4f458c58",
   "metadata": {
    "collapsed": false
   },
   "outputs": [
    {
     "name": "stdout",
     "output_type": "stream",
     "text": [
      "Se han insertado 5 nuevos registros en la tabla rol\n"
     ]
    }
   ],
   "source": [
    "data_roles = [\n",
    "    {'idrol': 10001, 'nombre': 'Administrador', 'descripcion': 'Este rol tiene acceso completo al sistema y puede realizar todas las acciones.', 'estado': True},\n",
    "    {'idrol': 10002, 'nombre': 'Moderador', 'descripcion': 'Este rol tiene permisos para moderar contenido y realizar acciones específicas.', 'estado': True},\n",
    "    {'idrol': 10003, 'nombre': 'Usuario Estándar', 'descripcion': 'Este rol tiene acceso limitado y puede realizar acciones básicas en el sistema.', 'estado': True},\n",
    "    {'idrol': 10004, 'nombre': 'Soporte Técnico', 'descripcion': 'Este rol proporciona soporte técnico y tiene acceso a herramientas de diagnóstico.', 'estado': True},\n",
    "    {'idrol': 10005, 'nombre': 'Invitado', 'descripcion': 'Este rol tiene acceso limitado y solo puede ver contenido público.', 'estado': True}\n",
    "]\n",
    "\n",
    "# Insertamos data en la tabla rol\n",
    "insertData2SQL_rol(data_roles, 'rol', driver)"
   ]
  },
  {
   "cell_type": "markdown",
   "id": "9f7d8dc5-8d35-4043-821d-a87143a92648",
   "metadata": {
    "collapsed": false
   },
   "source": [
    "# Agregando datos a la tabla articulo"
   ]
  },
  {
   "cell_type": "code",
   "execution_count": 16,
   "id": "b6c5f9da-23c2-4f38-986d-e715984497c8",
   "metadata": {
    "collapsed": false
   },
   "outputs": [
    {
     "name": "stdout",
     "output_type": "stream",
     "text": [
      "['Jarrón Guess', 'Suéter Through', 'Vestido Employee', 'Tenis Career', 'Camisa Among', 'Pantalón Somebody', 'Bolígrafo Major', 'Perfume High', 'Maquillaje On', 'Perfume Decade', 'Cuadro Then', 'Galleta Alone', 'Camisa Remain', 'Lámpara Most', 'Tenis Know', 'Maquillaje Information', 'Vestido Hour', 'Lámpara Degree', 'Tenis Many', 'Tableta Fast', 'Pelota Mrs', 'Tableta Meet', 'Anillo Bring', 'Libro Visit', 'Reloj Professional', 'Pelota Understand', 'Lámpara Partner', 'Lámpara Begin', 'Perfume Dinner', 'Tenis Race', 'Lámpara Risk', 'Perfume Among', 'Libro Federal', 'Tableta System', 'Cocina Sister', 'Libro Side', 'Teléfono Mission', 'Alfombra Evidence', 'Pelota Hit', 'Cuadro Task', 'Portátil Group', 'Reloj Build', 'Portátil Do', 'Juguete Cost', 'Maquillaje He', 'Silla Product', 'Silla Good', 'Tenis Talk', 'Tableta Practice', 'Libro Ready', 'Perfume Certain', 'Camisa Season', 'Juguete Husband', 'Silla Art', 'Perfume Mrs', 'Silla Tax', 'Perfume Sense', 'Pelota Middle', 'Alfombra Fall', 'Lámpara Raise', 'Cuadro Charge', 'Bolígrafo Look', 'Tableta Move', 'Perfume Yes', 'Tableta Both', 'Jarrón Dark', 'Pelota Field', 'Anillo Certain', 'Juguete Back', 'Tenis Fund', 'Galleta Area', 'Suéter A', 'Jarrón Part', 'Portátil Because', 'Pelota Contain', 'Juguete Mean', 'Cocina Nor', 'Alfombra Commercial', 'Jarrón Religious', 'Cama Like', 'Suéter Thousand', 'Tableta Us', 'Cuadro Industry', 'Zapatos We', 'Silla Market', 'Tableta Within', 'Perfume Bar', 'Pelota Down', 'Vestido Son', 'Cama Social', 'Perfume Yes', 'Maquillaje Money', 'Perfume Sister', 'Bolígrafo Government', 'Tenis Poor', 'Zapatos Week', 'Vestido Relationship', 'Pelota Here', 'Reloj Campaign', 'Libro Land']\n"
     ]
    }
   ],
   "source": [
    "from faker import Faker\n",
    "import random\n",
    "\n",
    "fake = Faker()\n",
    "\n",
    "# Lista de palabras clave que representan tipos comunes de artículos\n",
    "palabras_clave = [\"Camisa\", \"Pantalón\", \"Zapatos\", \"Tenis\", \"Vestido\", \"Reloj\", \"Teléfono\", \"Portátil\", \"Tableta\", \"Juguete\", \"Libro\", \"Silla\", \"Mesa\", \"Lámpara\", \"Cuadro\", \"Cocina\", \"Cama\", \"Alfombra\", \"Jarrón\", \"Perfume\", \"Maquillaje\", \"Galleta\", \"Pelota\", \"Anillo\", \"Suéter\", \"Bolígrafo\"]\n",
    "\n",
    "nombres_articulos = []\n",
    "\n",
    "# Generar nombres de artículos aleatorios combinando palabras aleatorias con palabras clave\n",
    "for _ in range(1000):\n",
    "    palabra_aleatoria = fake.word()\n",
    "    nombre_articulo = random.choice(palabras_clave) + \" \" + palabra_aleatoria.capitalize()\n",
    "    nombres_articulos.append(nombre_articulo)\n",
    "\n",
    "print(nombres_articulos[:100])  # Imprimir los primeros 10 nombres de artículos generados\n"
   ]
  },
  {
   "cell_type": "code",
   "execution_count": 17,
   "id": "b13c4675-2f51-42e4-bbe9-87e9ba6de969",
   "metadata": {
    "collapsed": false
   },
   "outputs": [],
   "source": [
    "def generar_codigo(length):\n",
    "    caracteres = 'abcdefghijklmnopqrstuvwxyzABCDEFGHIJKLMNOPQRSTUVWXYZ0123456789'\n",
    "    codigo = ''.join(random.choice(caracteres) for _ in range(length))\n",
    "    return codigo"
   ]
  },
  {
   "cell_type": "code",
   "execution_count": 18,
   "id": "54ade233-18c8-49a9-991b-690b6efbef15",
   "metadata": {
    "collapsed": false
   },
   "outputs": [
    {
     "data": {
      "text/plain": [
       "1000"
      ]
     },
     "execution_count": 18,
     "metadata": {},
     "output_type": "execute_result"
    }
   ],
   "source": [
    "len(nombres_articulos)"
   ]
  },
  {
   "cell_type": "code",
   "execution_count": 19,
   "id": "5956f740-c872-4ff2-b2b4-8143d9018a22",
   "metadata": {
    "collapsed": false
   },
   "outputs": [
    {
     "name": "stdout",
     "output_type": "stream",
     "text": [
      "Se han insertado 1000 nuevos registros en la tabla articulo\n"
     ]
    }
   ],
   "source": [
    "cantidad_articulos = 1000\n",
    "\n",
    "data_articulos = []\n",
    "\n",
    "for index, articulo in enumerate(range(cantidad_articulos)):\n",
    "    nuevo_articulo = {\n",
    "        'idarticulo': index,\n",
    "        'idcategoria': random.sample(data_categoria, 1)[0]['idcategoria'],\n",
    "        'codigo': generar_codigo(8),\n",
    "        'nombre': nombres_articulos[index],\n",
    "        'precio_venta': round(random.uniform(10, 1000),2),\n",
    "        'stock': np.random.randint (1, 100),\n",
    "        'descripcion': f'Artículo {nombres_articulos[index]} en venta en tienda',\n",
    "        'imagen': 'fig_' + str(index),\n",
    "        'estado': True\n",
    "    }\n",
    "    data_articulos.append(nuevo_articulo)\n",
    "insertData2SQL_articulo(data_articulos, 'articulo', driver)"
   ]
  },
  {
   "cell_type": "code",
   "execution_count": 14,
   "id": "701334bf-c18c-4c53-a997-7c3def4cd59b",
   "metadata": {
    "collapsed": false
   },
   "outputs": [],
   "source": [
    "# Consulta para obtener el nombre de todas las tablas en el esquema público\n",
    "consulta_tablas = \"\"\"\n",
    "SELECT table_name \n",
    "FROM information_schema.tables \n",
    "WHERE table_schema = 'public' \n",
    "AND table_type = 'BASE TABLE';\n",
    "\"\"\"\n",
    "# Ejecutar la consulta\n",
    "cursor.execute(consulta_tablas)\n",
    "# Obtener los nombres de las tablas\n",
    "tablas = cursor.fetchall()"
   ]
  },
  {
   "cell_type": "code",
   "execution_count": 15,
   "id": "a2c1e063-e572-4624-9cbe-8b6c360e4fce",
   "metadata": {
    "collapsed": false
   },
   "outputs": [],
   "source": [
    "# Iterar sobre las tablas y eliminarlas una por una\n",
    "for tabla in tablas:\n",
    "    eliminar_tabla = f\"DROP TABLE IF EXISTS {tabla[0]} CASCADE;\"\n",
    "    cursor.execute(eliminar_tabla)\n",
    "\n",
    "# Confirmar los cambios y cerrar la conexión\n",
    "db_pg_conn.commit()\n",
    "db_pg_conn.close()"
   ]
  },
  {
   "cell_type": "code",
   "execution_count": null,
   "id": "cdde5c59-4c2f-4efd-a8c5-f8d5e621b266",
   "metadata": {
    "collapsed": false
   },
   "outputs": [],
   "source": []
  }
 ],
 "metadata": {
  "kernelspec": {
   "argv": [
    "/Users/luistun/anaconda3/bin/python",
    "-m",
    "ipykernel_launcher",
    "-f",
    "{connection_file}"
   ],
   "display_name": "Python 3 (ipykernel)",
   "env": null,
   "interrupt_mode": "signal",
   "language": "python",
   "metadata": {
    "debugger": true
   },
   "name": "python3"
  },
  "name": "Proyecto_Final.ipynb"
 },
 "nbformat": 4,
 "nbformat_minor": 5
}
