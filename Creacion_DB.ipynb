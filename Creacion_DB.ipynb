{
 "cells": [
  {
   "cell_type": "code",
   "execution_count": 1,
   "id": "1dbfe472-6333-43b9-8cd7-6d43646be35e",
   "metadata": {
    "collapsed": false
   },
   "outputs": [],
   "source": [
    "import boto3\n",
    "import pandas as pd\n",
    "import numpy as np\n",
    "import psycopg2\n",
    "import configparser"
   ]
  },
  {
   "cell_type": "markdown",
   "id": "587ca4be-fbc6-4016-a693-a5323837ffe2",
   "metadata": {
    "collapsed": false
   },
   "source": [
    "## Leemos archivo de configuración\n"
   ]
  },
  {
   "cell_type": "code",
   "execution_count": 2,
   "id": "715ad5cf-ea17-479c-9523-033dbb8aabdd",
   "metadata": {
    "collapsed": false
   },
   "outputs": [
    {
     "data": {
      "text/plain": [
       "['config.cfg']"
      ]
     },
     "execution_count": 2,
     "metadata": {},
     "output_type": "execute_result"
    }
   ],
   "source": [
    "config = configparser.ConfigParser()\n",
    "config.read('config.cfg')"
   ]
  },
  {
   "cell_type": "markdown",
   "id": "87775b66-310e-4ba6-a354-07bf4c4f99e1",
   "metadata": {
    "collapsed": false
   },
   "source": [
    "## Nos identificamos con AWS\n"
   ]
  },
  {
   "cell_type": "code",
   "execution_count": 3,
   "id": "cb96bdd3-aabe-45e5-ae10-1747c71e02a3",
   "metadata": {
    "collapsed": false
   },
   "outputs": [],
   "source": [
    "aws_rds_connection = boto3.client('rds', aws_access_key_id=config.get('IAM', 'ACCESS_KEY'),\n",
    "                              aws_secret_access_key=config.get('IAM', 'SECRET_ACCESS_KEY'),\n",
    "                              region_name='us-east-2')"
   ]
  },
  {
   "cell_type": "markdown",
   "id": "5b412d88-bb9f-4404-a26f-6c14b3ceb869",
   "metadata": {
    "collapsed": false
   },
   "source": [
    "## Verificamos instancias de AWS disponibles en el usuario\n"
   ]
  },
  {
   "cell_type": "code",
   "execution_count": 4,
   "id": "8392ddd8-a494-4c16-9a2d-c891fa6a51f4",
   "metadata": {
    "collapsed": false
   },
   "outputs": [
    {
     "name": "stdout",
     "output_type": "stream",
     "text": [
      "Instancias Disponibles: ['tienda-transactional']\n"
     ]
    }
   ],
   "source": [
    "rds_instances_ids = []\n",
    "\n",
    "aws_response = aws_rds_connection.describe_db_instances()\n",
    "\n",
    "for response in aws_response['DBInstances']:\n",
    "    rds_instances_ids.append(response['DBInstanceIdentifier'])\n",
    "\n",
    "print(f\"Instancias Disponibles: {rds_instances_ids}\")"
   ]
  },
  {
   "cell_type": "markdown",
   "id": "3b062daa-5661-49dc-ad69-46b4f778be2d",
   "metadata": {
    "collapsed": false
   },
   "source": [
    "## Creamos instancia de base de datos en AWS - PostGres\n"
   ]
  },
  {
   "cell_type": "code",
   "execution_count": 5,
   "id": "2fa58a25-75f2-4216-b467-921624c4d329",
   "metadata": {
    "collapsed": false
   },
   "outputs": [
    {
     "name": "stdout",
     "output_type": "stream",
     "text": [
      "La instancia ya existe\n"
     ]
    }
   ],
   "source": [
    "try:\n",
    "    response = aws_rds_connection.create_db_instance(\n",
    "        DBInstanceIdentifier=config.get('TRANSACC', 'DB_INSTANCE_ID'),\n",
    "        DBName=config.get('TRANSACC', 'DB_NAME'),\n",
    "        DBInstanceClass='db.t3.micro',\n",
    "        Engine='postgres',\n",
    "        MasterUsername=config.get('TRANSACC', 'DB_USER'),\n",
    "        MasterUserPassword=config.get('TRANSACC', 'DB_PASSWORD'),\n",
    "        Port=int(config.get('TRANSACC', 'DB_PORT')),\n",
    "        PubliclyAccessible=True,\n",
    "        VpcSecurityGroupIds=[config.get('VPC', 'SECURITY_GROUP')],\n",
    "        AllocatedStorage=15\n",
    "    )\n",
    "    print(response)\n",
    "except aws_rds_connection.exceptions.DBInstanceAlreadyExistsFault as ex:\n",
    "    print(\"La instancia ya existe\")\n",
    "except Exception as ex:\n",
    "    print(\"Error!\", ex)"
   ]
  },
  {
   "cell_type": "markdown",
   "id": "30235b48-2f20-4d0b-bd9c-df2ecd1109a0",
   "metadata": {
    "collapsed": false
   },
   "source": [
    "## Obtenemos el hostname de la instancia\n"
   ]
  },
  {
   "cell_type": "code",
   "execution_count": 6,
   "id": "8f2a0a95-34dd-44f3-98d3-30f680fab2bc",
   "metadata": {
    "collapsed": false
   },
   "outputs": [
    {
     "name": "stdout",
     "output_type": "stream",
     "text": [
      "tienda-transactional.cjykcg6gmirx.us-east-2.rds.amazonaws.com\n"
     ]
    }
   ],
   "source": [
    "try:\n",
    "    instance = aws_rds_connection.describe_db_instances(DBInstanceIdentifier=config.get('TRANSACC', 'DB_INSTANCE_ID'))\n",
    "    RDS_HOSTNAME = instance.get('DBInstances')[0].get('Endpoint').get('Address')\n",
    "    print(RDS_HOSTNAME)\n",
    "except Exception as ex:\n",
    "    print(\"Error!!\", ex)"
   ]
  },
  {
   "cell_type": "markdown",
   "id": "06e8b4fe-f83a-46aa-b562-e9dc970eb44e",
   "metadata": {
    "collapsed": false
   },
   "source": [
    "## Nos conectamos a la base de datos desde Python\n"
   ]
  },
  {
   "cell_type": "code",
   "execution_count": 7,
   "id": "eae2fccf-b86c-4516-92fb-31c21b2d34fe",
   "metadata": {
    "collapsed": false
   },
   "outputs": [],
   "source": [
    "import sql_queries\n",
    "#sql_queries.DDL_QUERY"
   ]
  },
  {
   "cell_type": "code",
   "execution_count": 8,
   "id": "ec67caa7-fd3a-49ae-985f-4500f4340662",
   "metadata": {
    "collapsed": false
   },
   "outputs": [
    {
     "name": "stdout",
     "output_type": "stream",
     "text": [
      "Base de Datos Creada Exitosamente\n"
     ]
    }
   ],
   "source": [
    "try:\n",
    "    db_pg_conn = psycopg2.connect(\n",
    "        database=config.get('TRANSACC', 'DB_NAME'),\n",
    "        user=config.get('TRANSACC', 'DB_USER'),\n",
    "        password=config.get('TRANSACC', 'DB_PASSWORD'),\n",
    "        host=RDS_HOSTNAME,\n",
    "        port=int(config.get('TRANSACC', 'DB_PORT'))\n",
    "    )\n",
    "    cursor = db_pg_conn.cursor()\n",
    "    cursor.execute(sql_queries.DDL_QUERY)\n",
    "    db_pg_conn.commit()\n",
    "    print(\"Base de Datos Creada Exitosamente\")\n",
    "except Exception as ex:\n",
    "    print(\"Error!\", ex)"
   ]
  },
  {
   "cell_type": "markdown",
   "id": "c27af10b-d434-4d76-956b-4e59fccfa90c",
   "metadata": {
    "collapsed": false
   },
   "source": [
    "## Insertamos datos en la base de datos"
   ]
  },
  {
   "cell_type": "code",
   "execution_count": 9,
   "id": "a8d8ab52-eff4-43b7-8dd5-17b62460e45f",
   "metadata": {
    "collapsed": false
   },
   "outputs": [],
   "source": [
    "def insertData2SQL(data_dict, table_name, driver):\n",
    "\n",
    "    df_data = pd.DataFrame.from_records(data_dict)\n",
    "    try:\n",
    "        response = df_data.to_sql(table_name, driver, index=False, if_exists='append')\n",
    "        print(f\"Se han insertado {response} nuevos registros\")\n",
    "    except Exception as ex:\n",
    "        print(ex)"
   ]
  },
  {
   "cell_type": "code",
   "execution_count": 10,
   "id": "6fea98e1-adf8-47d3-892b-3e0fe9914afe",
   "metadata": {
    "collapsed": false
   },
   "outputs": [],
   "source": [
    "def insertData2SQL_categoria(data_dict, table_name, driver):\n",
    "    df_data = pd.DataFrame.from_records(data_dict)\n",
    "    try:\n",
    "        for index, row in df_data.iterrows():\n",
    "            estado_value = \"'1'\" if row.to_dict()['estado'] else \"'0'\"\n",
    "            query = f\"INSERT INTO {table_name} VALUES ({row.to_dict()['idcategoria']}, '{row.to_dict()['nombre']}', '{row.to_dict()['descripcion']}', CAST({estado_value} AS BIT))\"\n",
    "            cursor.execute(query)\n",
    "        db_pg_conn.commit()\n",
    "        print(f\"Se han insertado {len(df_data)} nuevos registros\")\n",
    "    except Exception as ex:\n",
    "        print(ex)"
   ]
  },
  {
   "cell_type": "code",
   "execution_count": 11,
   "id": "c210cc81-fc3d-4867-89c2-b476f8f01958",
   "metadata": {
    "collapsed": false
   },
   "outputs": [],
   "source": [
    "def insertData2SQL_rol(data_dict, table_name, driver):\n",
    "    df_data = pd.DataFrame.from_records(data_dict)\n",
    "    try:\n",
    "        for index, row in df_data.iterrows():\n",
    "            estado_value = \"'1'\" if row.to_dict()['estado'] else \"'0'\"\n",
    "            query = f\"INSERT INTO {table_name} VALUES ({row.to_dict()['idrol']}, '{row.to_dict()['nombre']}', '{row.to_dict()['descripcion']}', CAST({estado_value} AS BIT))\"\n",
    "            cursor.execute(query)\n",
    "        db_pg_conn.commit()\n",
    "        print(f\"Se han insertado {len(df_data)} nuevos registros en la tabla {table_name}\")\n",
    "    except Exception as ex:\n",
    "        print(ex)"
   ]
  },
  {
   "cell_type": "code",
   "execution_count": 12,
   "id": "4ccf9719-2871-4d7e-a72e-e3225ee1d244",
   "metadata": {
    "collapsed": false
   },
   "outputs": [],
   "source": [
    "def insertData2SQL_articulo(data_dict, table_name, driver):\n",
    "    df_data = pd.DataFrame.from_records(data_dict)\n",
    "    try:\n",
    "        for index, row in df_data.iterrows():\n",
    "            estado_value = \"'1'\" if row.to_dict()['estado'] else \"'0'\"\n",
    "            query = f\"INSERT INTO {table_name} VALUES ({row.to_dict()['idarticulo']}, '{row.to_dict()['idcategoria']}', '{row.to_dict()['codigo']}', '{row.to_dict()['nombre']}', '{row.to_dict()['precio_venta']}', '{row.to_dict()['stock']}', '{row.to_dict()['descripcion']}', '{row.to_dict()['imagen']}', CAST({estado_value} AS BIT))\"\n",
    "            cursor.execute(query)\n",
    "        db_pg_conn.commit()\n",
    "        print(f\"Se han insertado {len(df_data)} nuevos registros en la tabla {table_name}\")\n",
    "    except Exception as ex:\n",
    "        print(ex)"
   ]
  },
  {
   "cell_type": "code",
   "execution_count": 13,
   "id": "cf28ede7-952e-4c27-bec2-1bf72e836c4b",
   "metadata": {
    "collapsed": false
   },
   "outputs": [],
   "source": [
    "import binascii\n",
    "\n",
    "def insertData2SQL_usuario(data_dict, table_name, driver):\n",
    "    try:\n",
    "        for row in data_dict:\n",
    "            estado_value = 1 if row['estado'] else 0\n",
    "            query = f\"INSERT INTO {table_name} VALUES (%s, %s, %s, %s, %s, %s, %s, %s, %s, CAST(%s AS BIT))\"\n",
    "            cursor.execute(query, (\n",
    "                row['idusuario'],\n",
    "                row['idrol'],\n",
    "                row['nombre'],\n",
    "                row['tipo_documento'],\n",
    "                row['num_documento'],\n",
    "                row['direccion'],\n",
    "                row['telefono'],\n",
    "                row['email'],\n",
    "                binascii.hexlify(row['clave']).decode('utf-8'),\n",
    "                estado_value\n",
    "            ))\n",
    "        db_pg_conn.commit()\n",
    "        print(f\"Se han insertado {len(data_dict)} nuevos registros en la tabla {table_name}\")\n",
    "    except Exception as ex:\n",
    "        print(ex)\n",
    "\n",
    "\n",
    "\n",
    "#def insertData2SQL_usuario(data_dict, table_name, cursor):\n",
    "#    try:\n",
    "#        for index, row in enumerate(data_dict, 1):\n",
    "#            estado_value = 1 if row['estado'] else 0\n",
    "#            # Convertir datos binarios a representación hexadecimal\n",
    "#            clave_hex = binascii.hexlify(row['clave']).decode('utf-8')\n",
    "#            query = f\"INSERT INTO {table_name} VALUES (%s, %s, %s, %s, %s, %s, %s, %s, %s, %s)\"\n",
    "#            cursor.execute(query, (row['idusuario'], row['idrol'], row['nombre'], row['tipo_documento'],\n",
    "#                                   row['num_documento'], row['direccion'], row['telefono'], row['email'],\n",
    "#                                   clave_hex, estado_value))\n",
    "#        print(f\"Se han insertado {index} nuevos registros en la tabla {table_name}\")\n",
    "#    except psycopg2.Error as e:\n",
    "#        print(\"Error al insertar datos:\", e)"
   ]
  },
  {
   "cell_type": "code",
   "execution_count": 14,
   "id": "1354dad2-3f7a-4a16-b9bc-7722cc65d0b0",
   "metadata": {
    "collapsed": false
   },
   "outputs": [],
   "source": [
    "def generate_unique_random_numbers(start, end, count):\n",
    "    unique_numbers = set()\n",
    "    while len(unique_numbers) < count:\n",
    "        random_number = np.random.randint(start, end)\n",
    "        unique_numbers.add(random_number)\n",
    "    return list(unique_numbers)\n",
    "\n"
   ]
  },
  {
   "cell_type": "code",
   "execution_count": 15,
   "id": "79285cd1-284f-4a45-bd22-b4145ecfb9f7",
   "metadata": {
    "collapsed": false
   },
   "outputs": [],
   "source": [
    "# Define una función para generar un número de teléfono con un número específico de dígitos\n",
    "def generate_phone_number(digits):\n",
    "    # Utiliza el formato específico para el número de teléfono, ajustando el número de dígitos según sea necesario\n",
    "    phone_number = fake.phone_number()[:digits]\n",
    "    return phone_number"
   ]
  },
  {
   "cell_type": "code",
   "execution_count": 16,
   "id": "aac2fafc-baaa-4338-bda3-b05a535927f7",
   "metadata": {
    "collapsed": false
   },
   "outputs": [],
   "source": [
    "driver = f\"\"\"postgresql://{config.get('TRANSACC', 'DB_USER')}:{config.get('TRANSACC', 'DB_PASSWORD')}@{RDS_HOSTNAME}:{config.get('TRANSACC', 'DB_PORT')}/{config.get('TRANSACC', 'DB_NAME')}\"\"\""
   ]
  },
  {
   "cell_type": "markdown",
   "id": "1719d205-2ba8-4c62-bf8e-d9ff892da6ff",
   "metadata": {
    "collapsed": false
   },
   "source": [
    "# Agregando datos a la tabla categoria"
   ]
  },
  {
   "cell_type": "code",
   "execution_count": 17,
   "id": "39d55756-df5a-42c2-babb-429171bc1829",
   "metadata": {
    "collapsed": false
   },
   "outputs": [
    {
     "name": "stdout",
     "output_type": "stream",
     "text": [
      "Se han insertado 10 nuevos registros\n"
     ]
    }
   ],
   "source": [
    "data_categoria = [\n",
    "    {'idcategoria': 39582, 'nombre': 'Ropa y Accesorios', 'descripcion': 'Incluye prendas de vestir para hombres, mujeres y ninos, asi como accesorios como bolsos, sombreros, bufandas, etc.', 'estado': True},\n",
    "    {'idcategoria': 82016, 'nombre': 'Calzado', 'descripcion': 'Incluye zapatos formales, tenis, botas, sandalias, para hombres, mujeres y ninos.', 'estado': True},\n",
    "    {'idcategoria': 51470, 'nombre': 'Juguetes y Juegos', 'descripcion': 'Una amplia gama de juguetes para ninos de todas las edades, asi como juegos de mesa y articulos deportivos.', 'estado': True},\n",
    "    {'idcategoria': 75369, 'nombre': 'Electronicos', 'descripcion': 'Desde telefonos moviles, computadoras portatiles y tabletas hasta accesorios como auriculares, cargadores y fundas.', 'estado': True},\n",
    "    {'idcategoria': 20934, 'nombre': 'Mascotas', 'descripcion': 'Ofrece productos para el cuidado de mascotas, alimentos, juguetes y accesorios para perros, gatos y otras mascotas.', 'estado': True},\n",
    "    {'idcategoria': 64218, 'nombre': 'Alimentos y Bebidas', 'descripcion': 'Desde alimentos enlatados y productos secos hasta bebidas como vinos, cervezas artesanales y licores.', 'estado': True},\n",
    "    {'idcategoria': 13750, 'nombre': 'Libros y Papeleria', 'descripcion': 'Ofrece una selección de libros para todas las edades y generos, asi como suministros de papeleria como cuadernos, bolígrafos y lapices.', 'estado': True},\n",
    "    {'idcategoria': 40879, 'nombre': 'Belleza y Cuidado Personal', 'descripcion': 'Incluye productos de cuidado de la piel, maquillaje, perfumes, asi como herramientas y accesorios para el cuidado del cabello.', 'estado': True},\n",
    "    {'idcategoria': 97521, 'nombre': 'Joyeria', 'descripcion': 'Desde anillos, pulseras y collares hasta relojes y joyeria personalizada.', 'estado': True},\n",
    "    {'idcategoria': 32684, 'nombre': 'Hogar y Decoracion', 'descripcion': 'Ofrece muebles para el hogar, articulos de decoracion como cuadros y jarrones, asi como utensilios de cocina y electrodomesticos.', 'estado': True}\n",
    "]\n",
    "\n",
    "# Insertamos data en la tabla categoria\n",
    "insertData2SQL_categoria(data_categoria, 'categoria', driver)"
   ]
  },
  {
   "cell_type": "markdown",
   "id": "bba13eee-076d-43a0-ad10-fcfc655c17b4",
   "metadata": {
    "collapsed": false
   },
   "source": [
    "# Agregando datos a la tabla rol\n"
   ]
  },
  {
   "cell_type": "code",
   "execution_count": 18,
   "id": "6c71dbab-5421-46b2-bece-deae4f458c58",
   "metadata": {
    "collapsed": false
   },
   "outputs": [
    {
     "name": "stdout",
     "output_type": "stream",
     "text": [
      "Se han insertado 5 nuevos registros en la tabla rol\n"
     ]
    }
   ],
   "source": [
    "data_roles = [\n",
    "    {'idrol': 10001, 'nombre': 'Administrador', 'descripcion': 'Este rol tiene acceso completo al sistema y puede realizar todas las acciones.', 'estado': True},\n",
    "    {'idrol': 10002, 'nombre': 'Moderador', 'descripcion': 'Este rol tiene permisos para moderar contenido y realizar acciones específicas.', 'estado': True},\n",
    "    {'idrol': 10003, 'nombre': 'Usuario Estándar', 'descripcion': 'Este rol tiene acceso limitado y puede realizar acciones básicas en el sistema.', 'estado': True},\n",
    "    {'idrol': 10004, 'nombre': 'Soporte Técnico', 'descripcion': 'Este rol proporciona soporte técnico y tiene acceso a herramientas de diagnóstico.', 'estado': True},\n",
    "    {'idrol': 10005, 'nombre': 'Invitado', 'descripcion': 'Este rol tiene acceso limitado y solo puede ver contenido público.', 'estado': True}\n",
    "]\n",
    "\n",
    "# Insertamos data en la tabla rol\n",
    "insertData2SQL_rol(data_roles, 'rol', driver)"
   ]
  },
  {
   "cell_type": "markdown",
   "id": "9f7d8dc5-8d35-4043-821d-a87143a92648",
   "metadata": {
    "collapsed": false
   },
   "source": [
    "# Agregando datos a la tabla articulo"
   ]
  },
  {
   "cell_type": "code",
   "execution_count": 19,
   "id": "b6c5f9da-23c2-4f38-986d-e715984497c8",
   "metadata": {
    "collapsed": false
   },
   "outputs": [
    {
     "name": "stdout",
     "output_type": "stream",
     "text": [
      "['Camisa Since', 'Pelota Hour', 'Pelota Just', 'Portátil Force', 'Juguete Style', 'Lámpara Control', 'Pantalón According', 'Camisa Billion', 'Bolígrafo Indicate', 'Pantalón Business', 'Bolígrafo Memory', 'Alfombra Lot', 'Suéter Western', 'Perfume Ready', 'Bolígrafo Policy', 'Jarrón Present', 'Perfume Ok', 'Cocina Subject', 'Zapatos Get', 'Reloj No', 'Alfombra Focus', 'Bolígrafo Half', 'Cuadro Decision', 'Lámpara Parent', 'Maquillaje Area', 'Pantalón Wife', 'Silla Out', 'Reloj Rate', 'Reloj Audience', 'Cocina All', 'Vestido World', 'Reloj Type', 'Anillo Moment', 'Cuadro Speak', 'Bolígrafo Water', 'Anillo Gun', 'Galleta Seek', 'Cocina Especially', 'Alfombra Time', 'Teléfono Wall', 'Lámpara Break', 'Silla Never', 'Suéter Partner', 'Cama Better', 'Bolígrafo Business', 'Suéter Police', 'Portátil Pretty', 'Pantalón Final', 'Silla Unit', 'Pantalón Resource', 'Pelota Ready', 'Pelota Miss', 'Maquillaje Main', 'Pantalón Alone', 'Anillo Us', 'Cocina Message', 'Jarrón Student', 'Mesa Religious', 'Zapatos Need', 'Galleta Necessary', 'Juguete Ready', 'Cama Treat', 'Lámpara Poor', 'Tenis Consider', 'Camisa Discussion', 'Perfume Center', 'Lámpara Dark', 'Juguete Building', 'Pelota Section', 'Galleta New', 'Cuadro House', 'Suéter Expert', 'Portátil Project', 'Mesa Bank', 'Galleta Assume', 'Alfombra Baby', 'Alfombra If', 'Anillo Team', 'Tableta Option', 'Anillo Pretty', 'Cocina Particularly', 'Reloj Find', 'Zapatos Draw', 'Cocina Instead', 'Cama Then', 'Camisa High', 'Tenis Half', 'Maquillaje Her', 'Juguete Natural', 'Lámpara Up', 'Perfume Doctor', 'Vestido Win', 'Maquillaje Size', 'Portátil Popular', 'Cocina National', 'Zapatos Hope', 'Reloj Everybody', 'Zapatos Son', 'Alfombra Someone', 'Alfombra Stuff']\n"
     ]
    }
   ],
   "source": [
    "from faker import Faker\n",
    "import random\n",
    "\n",
    "fake = Faker()\n",
    "\n",
    "# Lista de palabras clave que representan tipos comunes de artículos\n",
    "palabras_clave = [\"Camisa\", \"Pantalón\", \"Zapatos\", \"Tenis\", \"Vestido\", \"Reloj\", \"Teléfono\", \"Portátil\", \"Tableta\", \"Juguete\", \"Libro\", \"Silla\", \"Mesa\", \"Lámpara\", \"Cuadro\", \"Cocina\", \"Cama\", \"Alfombra\", \"Jarrón\", \"Perfume\", \"Maquillaje\", \"Galleta\", \"Pelota\", \"Anillo\", \"Suéter\", \"Bolígrafo\"]\n",
    "\n",
    "nombres_articulos = []\n",
    "\n",
    "# Generar nombres de artículos aleatorios combinando palabras aleatorias con palabras clave\n",
    "for _ in range(1000):\n",
    "    palabra_aleatoria = fake.word()\n",
    "    nombre_articulo = random.choice(palabras_clave) + \" \" + palabra_aleatoria.capitalize()\n",
    "    nombres_articulos.append(nombre_articulo)\n",
    "\n",
    "print(nombres_articulos[:100])  # Imprimir los primeros 10 nombres de artículos generados\n"
   ]
  },
  {
   "cell_type": "code",
   "execution_count": 20,
   "id": "b13c4675-2f51-42e4-bbe9-87e9ba6de969",
   "metadata": {
    "collapsed": false
   },
   "outputs": [],
   "source": [
    "def generar_codigo(length):\n",
    "    caracteres = 'abcdefghijklmnopqrstuvwxyzABCDEFGHIJKLMNOPQRSTUVWXYZ0123456789'\n",
    "    codigo = ''.join(random.choice(caracteres) for _ in range(length))\n",
    "    return codigo"
   ]
  },
  {
   "cell_type": "code",
   "execution_count": 21,
   "id": "54ade233-18c8-49a9-991b-690b6efbef15",
   "metadata": {
    "collapsed": false
   },
   "outputs": [
    {
     "data": {
      "text/plain": [
       "1000"
      ]
     },
     "execution_count": 21,
     "metadata": {},
     "output_type": "execute_result"
    }
   ],
   "source": [
    "len(nombres_articulos)"
   ]
  },
  {
   "cell_type": "code",
   "execution_count": 22,
   "id": "5956f740-c872-4ff2-b2b4-8143d9018a22",
   "metadata": {
    "collapsed": false
   },
   "outputs": [
    {
     "name": "stdout",
     "output_type": "stream",
     "text": [
      "Se han insertado 1000 nuevos registros en la tabla articulo\n"
     ]
    }
   ],
   "source": [
    "cantidad_articulos = 1000\n",
    "\n",
    "data_articulos = []\n",
    "\n",
    "start_number_articulo = 100000\n",
    "end_number_articulo = 999999\n",
    "number_count_articulo = cantidad_articulos\n",
    "\n",
    "unique_random_numbers_idarticulos = generate_unique_random_numbers(start_number_articulo, end_number_articulo, number_count_articulo)\n",
    "\n",
    "for index, articulo in enumerate(range(cantidad_articulos)):\n",
    "    nuevo_articulo = {\n",
    "        'idarticulo': unique_random_numbers_idarticulos[index],\n",
    "        'idcategoria': random.sample(data_categoria, 1)[0]['idcategoria'],\n",
    "        'codigo': generar_codigo(8),\n",
    "        'nombre': nombres_articulos[index],\n",
    "        'precio_venta': round(random.uniform(10, 1000),2),\n",
    "        'stock': np.random.randint(1, 100),\n",
    "        'descripcion': f'Artículo {nombres_articulos[index]} en venta en tienda',\n",
    "        'imagen': 'fig_' + str(index),\n",
    "        'estado': True\n",
    "    }\n",
    "    data_articulos.append(nuevo_articulo)\n",
    "insertData2SQL_articulo(data_articulos, 'articulo', driver)"
   ]
  },
  {
   "cell_type": "markdown",
   "id": "9e48103e-b237-481f-8ceb-8a87963643ec",
   "metadata": {
    "collapsed": false
   },
   "source": [
    "## Agregando datos a la tabla persona\n"
   ]
  },
  {
   "cell_type": "code",
   "execution_count": 23,
   "id": "b9b068f8-3665-4f02-b6bd-bb2687e1a90f",
   "metadata": {
    "collapsed": false
   },
   "outputs": [
    {
     "name": "stdout",
     "output_type": "stream",
     "text": [
      "Se han insertado 1000 nuevos registros\n"
     ]
    }
   ],
   "source": [
    "tipo_persona = ['cliente', 'proveedor']\n",
    "tipo_documento = ['DNI', 'NIE', 'Pasaporte', 'Tarjeta Residencia']\n",
    "\n",
    "cantidad_personas = 1000\n",
    "\n",
    "start_number_persona = 100000000\n",
    "end_number_persona = 999999999\n",
    "number_count_persona = cantidad_personas\n",
    "\n",
    "unique_random_numbers_idpersona = generate_unique_random_numbers(start_number_persona, end_number_persona, number_count_persona)\n",
    "\n",
    "start_number_num_doc_persona = 100000000000000\n",
    "end_number_num_doc_persona = 199999999999999\n",
    "number_count_num_doc_persona = cantidad_personas\n",
    "\n",
    "unique_random_numbers_num_doc_persona = generate_unique_random_numbers(start_number_num_doc_persona, end_number_num_doc_persona, number_count_num_doc_persona)\n",
    "\n",
    "data_personas = []\n",
    "for index, persona in enumerate(range(cantidad_personas)):\n",
    "    perfil_persona = fake.profile()\n",
    "    nombre_persona = perfil_persona['name']\n",
    "    direccion_persona = perfil_persona['address']\n",
    "    direccion_persona = direccion_persona.replace(\"\\n\", \" \")\n",
    "    email_persona = perfil_persona['mail']\n",
    "    # Generar un número de teléfono\n",
    "    numero_telefono = generate_phone_number(8)\n",
    "    nueva_persona = {\n",
    "        'idpersona': unique_random_numbers_idpersona[index],\n",
    "        'tipo_persona': tipo_persona[np.random.randint(0,2)],\n",
    "        'nombre': nombre_persona,\n",
    "        'tipo_documento': tipo_documento[np.random.randint(0,4)],\n",
    "        'num_documento': unique_random_numbers_num_doc_persona[index],\n",
    "        'direccion': direccion_persona,\n",
    "        'telefono': numero_telefono,\n",
    "        'email': email_persona,\n",
    "    }\n",
    "    data_personas.append(nueva_persona)\n",
    "insertData2SQL(data_personas, 'persona', driver)"
   ]
  },
  {
   "cell_type": "markdown",
   "id": "cdc61953-d989-453e-af2e-3c73b0654e42",
   "metadata": {
    "collapsed": false
   },
   "source": [
    "## Agregando datos a la tabla usuario\n"
   ]
  },
  {
   "cell_type": "code",
   "execution_count": 24,
   "id": "cb5893e8-3018-448a-8f5c-4bed8cca9075",
   "metadata": {
    "collapsed": false
   },
   "outputs": [
    {
     "name": "stdout",
     "output_type": "stream",
     "text": [
      "Se han insertado 1000 nuevos registros en la tabla usuario\n"
     ]
    }
   ],
   "source": [
    "import os\n",
    "\n",
    "cantidad_usuarios = 1000\n",
    "estados = [True, False]\n",
    "\n",
    "start_number_usuario = 1000000\n",
    "end_number_usuario = 9999999\n",
    "number_count_usuario = cantidad_usuarios\n",
    "\n",
    "unique_random_numbers_idusuario = generate_unique_random_numbers(start_number_usuario, end_number_usuario, number_count_usuario)\n",
    "\n",
    "start_number_num_doc_usuario = 100000000000000\n",
    "end_number_num_doc_usuario = 199999999999999\n",
    "number_count_num_doc_usuario = cantidad_usuarios\n",
    "\n",
    "unique_random_numbers_num_doc_usuario = generate_unique_random_numbers(start_number_num_doc_usuario, end_number_num_doc_usuario, number_count_num_doc_usuario)\n",
    "\n",
    "data_usuarios = []\n",
    "for index, usuario in enumerate(range(cantidad_usuarios)):\n",
    "    perfil_persona = fake.profile()\n",
    "    nombre_persona = perfil_persona['name']\n",
    "    direccion_persona = perfil_persona['address']\n",
    "    direccion_persona = direccion_persona.replace(\"\\n\", \" \")\n",
    "    email_persona = perfil_persona['mail']\n",
    "    longitud_bytes = 10\n",
    "    dato_binario = os.urandom(longitud_bytes)\n",
    "    # Generar un número de teléfono\n",
    "    numero_telefono = generate_phone_number(8)\n",
    "    \n",
    "    nuevo_usuario = {\n",
    "        'idusuario': unique_random_numbers_idusuario[index],\n",
    "        'idrol': random.choices(data_roles, weights=(0.1, 0.2, 0.4, 0.1, 0.2), k=1)[0]['idrol'],\n",
    "        'nombre': nombre_persona,\n",
    "        'tipo_documento': tipo_documento[np.random.randint(0,3)],\n",
    "        'num_documento': unique_random_numbers_num_doc_usuario[index],\n",
    "        'direccion': direccion_persona,\n",
    "        'telefono': numero_telefono,\n",
    "        'email': email_persona,\n",
    "        'clave': dato_binario,\n",
    "        'estado': estados[np.random.randint(0,2)],\n",
    "    }\n",
    "    data_usuarios.append(nuevo_usuario)\n",
    "insertData2SQL_usuario(data_usuarios, 'usuario', driver)"
   ]
  },
  {
   "cell_type": "markdown",
   "id": "236bb544-2307-45de-8cee-112a0695733e",
   "metadata": {
    "collapsed": false
   },
   "source": [
    "## Agregando datos a la tabla venta\n"
   ]
  },
  {
   "cell_type": "code",
   "execution_count": 25,
   "id": "c052548b-b0a0-4377-bff5-a370c077e27b",
   "metadata": {
    "collapsed": false
   },
   "outputs": [
    {
     "name": "stdout",
     "output_type": "stream",
     "text": [
      "Se han insertado 1000 nuevos registros\n"
     ]
    }
   ],
   "source": [
    "from datetime import datetime, timedelta\n",
    "\n",
    "cantidad_venta = 1000\n",
    "tipos_comprobante = ['Factura', 'Boleta de Venta', 'Ticket de Venta', 'Nota de Crédito', 'Nota de Débito', 'Recibo']\n",
    "estados_venta = ['Pendiente', 'En proceso', 'Completada', 'Cancelada', 'Reembolsada']\n",
    "# Definir el rango de fechas\n",
    "fecha_inicio = datetime(2015, 1, 1)\n",
    "fecha_fin = datetime(2023, 12, 31)\n",
    "\n",
    "# Generar una fecha aleatoria dentro del rango\n",
    "fecha_aleatoria = fecha_inicio + timedelta(days=random.randint(0, (fecha_fin - fecha_inicio).days))\n",
    "\n",
    "start_number_venta = 111111\n",
    "end_number_venta = 999999\n",
    "number_count_venta = cantidad_venta\n",
    "\n",
    "unique_random_numbers_idventa = generate_unique_random_numbers(start_number_venta, end_number_venta, number_count_venta)\n",
    "\n",
    "start_number_serie_comprob = 1000000\n",
    "end_number_serie_comprob = 9999999\n",
    "number_count_serie_comprob = cantidad_venta\n",
    "\n",
    "unique_random_numbers_serie_comprob = generate_unique_random_numbers(start_number_serie_comprob, end_number_serie_comprob, number_count_serie_comprob)\n",
    "\n",
    "start_number_num_comprob = 10000000\n",
    "end_number_num_comprob = 99999999\n",
    "number_count_num_comprob = cantidad_venta\n",
    "\n",
    "unique_random_numbers_num_comprob = generate_unique_random_numbers(start_number_num_comprob, end_number_num_comprob, number_count_num_comprob)\n",
    "\n",
    "data_venta = []\n",
    "for index, venta in enumerate(range(cantidad_venta)):\n",
    "    index_usuario = np.random.randint(0, len(data_usuarios))  # Generar un índice aleatorio\n",
    "    idusuario = data_usuarios[index_usuario]['idusuario']  # Obtener el idusuario correspondiente al índice\n",
    "    # Generar una fecha aleatoria dentro del rango\n",
    "    fecha_aleatoria = fecha_inicio + timedelta(days=random.randint(0, (fecha_fin - fecha_inicio).days))\n",
    "    nueva_venta = {\n",
    "        'idventa': unique_random_numbers_idventa[index],\n",
    "        'idcliente': random.sample(data_personas, 1)[0]['idpersona'],\n",
    "        'idusuario': random.sample(data_usuarios, 1)[0]['idusuario'],\n",
    "        'tipo_comprobante': tipos_comprobante[np.random.randint(0,6)],\n",
    "        'serie_comprobante': unique_random_numbers_serie_comprob[index],\n",
    "        'num_comprobante': unique_random_numbers_num_comprob[index],\n",
    "        'fecha': fecha_aleatoria,\n",
    "        'impuesto': round(random.uniform(0, 99.99), 2),\n",
    "        'total': round(random.uniform(0, 99999.99), 2),\n",
    "        'estado': estados_venta[np.random.randint(0,5)]\n",
    "    }\n",
    "    data_venta.append(nueva_venta)\n",
    "insertData2SQL(data_venta, 'venta', driver)"
   ]
  },
  {
   "cell_type": "markdown",
   "id": "3ac3ab5a-534e-4a13-baa0-2eb63680ae37",
   "metadata": {
    "collapsed": false
   },
   "source": [
    "## Agregando datos a la tabla detalles_venta\n"
   ]
  },
  {
   "cell_type": "code",
   "execution_count": 26,
   "id": "31b04af6-4c7e-43c5-a58b-e04e0db98fe7",
   "metadata": {
    "collapsed": false
   },
   "outputs": [
    {
     "name": "stdout",
     "output_type": "stream",
     "text": [
      "Se han insertado 1000 nuevos registros\n"
     ]
    }
   ],
   "source": [
    "cantidad_detalles_venta = 5000\n",
    "\n",
    "start_number_detalle_venta = 3333333\n",
    "end_number_detalle_venta = 9999999\n",
    "number_count_detalle_venta = cantidad_detalles_venta\n",
    "\n",
    "unique_random_numbers_iddetalle_venta = generate_unique_random_numbers(start_number_detalle_venta, end_number_detalle_venta, number_count_detalle_venta)\n",
    "\n",
    "data_detalles_venta = []\n",
    "for index, detalles_venta in enumerate(range(cantidad_detalles_venta)):\n",
    "    muestra_tabla_articulo = random.sample(data_articulos, 1)\n",
    "    idarticulo_muestra = muestra_tabla_articulo[0]['idarticulo']\n",
    "    precio_muestra = muestra_tabla_articulo[0]['precio_venta']\n",
    "    nuevo_detalle_venta = {\n",
    "        'iddetalle_venta': unique_random_numbers_iddetalle_venta[index],\n",
    "        'idventa': random.sample(data_venta, 1)[0]['idventa'],\n",
    "        'idarticulo': idarticulo_muestra,\n",
    "        'cantidad': np.random.randint(0,100),\n",
    "        'precio': precio_muestra,\n",
    "        'descuento': round(random.uniform(0, 999.99), 2)\n",
    "    }\n",
    "    data_detalles_venta.append(nuevo_detalle_venta)\n",
    "insertData2SQL(data_detalles_venta, 'detalle_venta', driver)"
   ]
  },
  {
   "cell_type": "markdown",
   "id": "bcb515e3-1423-484f-812f-af9acb6843e3",
   "metadata": {
    "collapsed": false
   },
   "source": [
    "## Agregando datos  a la tabla ingreso\n"
   ]
  },
  {
   "cell_type": "code",
   "execution_count": 27,
   "id": "a702b5ae-5dca-4696-8353-f212a28228aa",
   "metadata": {
    "collapsed": false
   },
   "outputs": [
    {
     "name": "stdout",
     "output_type": "stream",
     "text": [
      "Se han insertado 1000 nuevos registros\n"
     ]
    }
   ],
   "source": [
    "cantidad_ingresos = 1000\n",
    "estados_ingreso = ['Pendiente', 'En proceso', 'Completada', 'Cancelada', 'Reembolsada']\n",
    "\n",
    "start_number_ingreso = 100000000\n",
    "end_number_ingreso = 999999999\n",
    "number_count_ingreso = cantidad_ingresos\n",
    "\n",
    "unique_random_numbers_idingreso = generate_unique_random_numbers(start_number_ingreso, end_number_ingreso, number_count_ingreso)\n",
    "\n",
    "start_number_serie_comprob_ingreso = 1000000\n",
    "end_number_serie_comprob_ingreso = 9999999\n",
    "number_count_serie_comprob_ingreso = cantidad_ingresos\n",
    "\n",
    "unique_random_numbers_serie_comprob_ingreso = generate_unique_random_numbers(start_number_serie_comprob_ingreso, end_number_serie_comprob_ingreso, number_count_serie_comprob_ingreso)\n",
    "\n",
    "data_ingresos = []\n",
    "for index, ingreso in enumerate(range(cantidad_ingresos)):\n",
    "    fecha_aleatoria = fecha_inicio + timedelta(days=random.randint(0, (fecha_fin - fecha_inicio).days))\n",
    "    nuevo_ingreso = {\n",
    "        'idingreso': unique_random_numbers_idingreso[index],\n",
    "        'idproveedor': random.sample(data_personas, 1)[0]['idpersona'],\n",
    "        'idusuario': random.sample(data_usuarios, 1)[0]['idusuario'],\n",
    "        'tipo_comprobante':  tipos_comprobante[np.random.randint(0,6)],\n",
    "        'serie_comprobante': unique_random_numbers_serie_comprob_ingreso[index],\n",
    "        'fecha': fecha_aleatoria,\n",
    "        'impuesto': round(random.uniform(0, 99.99), 2),\n",
    "        'total': round(random.uniform(0, 99999.99), 2),\n",
    "        'estado': estados_ingreso[np.random.randint(0,5)]\n",
    "    }\n",
    "    data_ingresos.append(nuevo_ingreso)\n",
    "insertData2SQL(data_ingresos, 'ingreso', driver)"
   ]
  },
  {
   "cell_type": "markdown",
   "id": "e8bc4a66-8afc-4fd6-b253-a79397634820",
   "metadata": {
    "collapsed": false
   },
   "source": [
    "## Agregando datos a la tabla detalle_ingreso\n"
   ]
  },
  {
   "cell_type": "code",
   "execution_count": 28,
   "id": "b9889492-961b-47f6-adb5-899efd16fe21",
   "metadata": {
    "collapsed": false
   },
   "outputs": [
    {
     "name": "stdout",
     "output_type": "stream",
     "text": [
      "Se han insertado 1000 nuevos registros\n"
     ]
    }
   ],
   "source": [
    "cantidad_detalles_ingreso = 1000\n",
    "\n",
    "start_number_detalle_ingreso = 100000000\n",
    "end_number_detalle_ingreso = 999999999\n",
    "number_count_detalle_ingreso = cantidad_detalles_ingreso\n",
    "\n",
    "unique_random_numbers_iddetalle_ingreso = generate_unique_random_numbers(start_number_detalle_ingreso, end_number_detalle_ingreso, number_count_detalle_ingreso)\n",
    "\n",
    "data_detalles_ingreso = []\n",
    "for index, detalles_ingreso in enumerate(range(cantidad_detalles_ingreso)):\n",
    "    muestra_tabla_articulo = random.sample(data_articulos, 1)\n",
    "    idarticulo_muestra = muestra_tabla_articulo[0]['idarticulo']\n",
    "    precio_muestra = muestra_tabla_articulo[0]['precio_venta']\n",
    "    nuevo_detalle_ingreso = {\n",
    "        'iddetalle_ingreso': unique_random_numbers_iddetalle_ingreso[index],\n",
    "        'idingreso': random.sample(data_ingresos, 1)[0]['idingreso'],\n",
    "        'idarticulo': idarticulo_muestra,\n",
    "        'cantidad': np.random.randint(0,100),\n",
    "        'precio': precio_muestra\n",
    "    }\n",
    "    data_detalles_ingreso.append(nuevo_detalle_ingreso)\n",
    "insertData2SQL(data_detalles_ingreso, 'detalle_ingreso', driver)"
   ]
  },
  {
   "cell_type": "code",
   "execution_count": 29,
   "id": "701334bf-c18c-4c53-a997-7c3def4cd59b",
   "metadata": {
    "collapsed": false
   },
   "outputs": [],
   "source": [
    "# Consulta para obtener el nombre de todas las tablas en el esquema público\n",
    "consulta_tablas = \"\"\"\n",
    "SELECT table_name \n",
    "FROM information_schema.tables \n",
    "WHERE table_schema = 'public' \n",
    "AND table_type = 'BASE TABLE';\n",
    "\"\"\"\n",
    "# Ejecutar la consulta\n",
    "cursor.execute(consulta_tablas)\n",
    "# Obtener los nombres de las tablas\n",
    "tablas = cursor.fetchall()"
   ]
  },
  {
   "cell_type": "code",
   "execution_count": 30,
   "id": "a2c1e063-e572-4624-9cbe-8b6c360e4fce",
   "metadata": {
    "collapsed": false
   },
   "outputs": [],
   "source": [
    "# Iterar sobre las tablas y eliminarlas una por una\n",
    "for tabla in tablas:\n",
    "    eliminar_tabla = f\"DROP TABLE IF EXISTS {tabla[0]} CASCADE;\"\n",
    "    cursor.execute(eliminar_tabla)\n",
    "\n",
    "# Confirmar los cambios y cerrar la conexión\n",
    "db_pg_conn.commit()\n",
    "db_pg_conn.close()"
   ]
  },
  {
   "cell_type": "markdown",
   "id": "b626bba0-9b03-40fd-8172-c865b177bd2e",
   "metadata": {
    "collapsed": false
   },
   "source": [
    "\n"
   ]
  }
 ],
 "metadata": {
  "kernelspec": {
   "argv": [
    "/Users/luistun/anaconda3/bin/python",
    "-m",
    "ipykernel_launcher",
    "-f",
    "{connection_file}"
   ],
   "display_name": "Python 3 (ipykernel)",
   "env": null,
   "interrupt_mode": "signal",
   "language": "python",
   "metadata": {
    "debugger": true
   },
   "name": "python3"
  },
  "name": "Creacion_DB.ipynb"
 },
 "nbformat": 4,
 "nbformat_minor": 5
}
