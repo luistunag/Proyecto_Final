{
 "cells": [
  {
   "cell_type": "code",
   "execution_count": 14,
   "id": "864fd11c-3677-4f75-b7c2-0950b9530ffb",
   "metadata": {
    "collapsed": false
   },
   "outputs": [],
   "source": [
    "import pandas as pd\n",
    "import numpy as np\n",
    "import boto3\n",
    "import psycopg2\n",
    "import configparser"
   ]
  },
  {
   "cell_type": "code",
   "execution_count": 15,
   "id": "f9e281e6-b06a-4b9d-9d1e-0dc8e191b6c3",
   "metadata": {
    "collapsed": false
   },
   "outputs": [
    {
     "data": {
      "text/plain": [
       "['config.cfg']"
      ]
     },
     "execution_count": 15,
     "metadata": {},
     "output_type": "execute_result"
    }
   ],
   "source": [
    "config = configparser.ConfigParser()\n",
    "config.read('config.cfg')"
   ]
  },
  {
   "cell_type": "code",
   "execution_count": 16,
   "id": "e8f7840f-9f06-43a0-af71-74ac42607483",
   "metadata": {
    "collapsed": false
   },
   "outputs": [
    {
     "name": "stdout",
     "output_type": "stream",
     "text": [
      "tienda-transactional.cjykcg6gmirx.us-east-2.rds.amazonaws.com\n"
     ]
    }
   ],
   "source": [
    "RDS_HOST = 'tienda-transactional.cjykcg6gmirx.us-east-2.rds.amazonaws.com'\n",
    "print(RDS_HOST)"
   ]
  },
  {
   "cell_type": "code",
   "execution_count": 17,
   "id": "9c6085e5-9ea7-422e-9f0a-c010d99034cb",
   "metadata": {
    "collapsed": false
   },
   "outputs": [],
   "source": [
    "postgres_driver = f\"\"\"postgresql://{config.get('TRANSACC', 'DB_USER')}:{config.get('TRANSACC', 'DB_PASSWORD')}@{RDS_HOST}:{config.get('TRANSACC', 'DB_PORT')}/{config.get('TRANSACC', 'DB_NAME')}\"\"\""
   ]
  },
  {
   "cell_type": "markdown",
   "id": "87148680-15dc-4c5b-bac9-79f53ffb6ad0",
   "metadata": {
    "collapsed": false
   },
   "source": [
    "#### Creamos Dimensión de Personas\n"
   ]
  },
  {
   "cell_type": "code",
   "execution_count": 18,
   "id": "582e5d02-80f2-4784-80b5-29500cc4d705",
   "metadata": {
    "collapsed": false
   },
   "outputs": [
    {
     "data": {
      "text/html": [
       "<div>\n",
       "<style scoped>\n",
       "    .dataframe tbody tr th:only-of-type {\n",
       "        vertical-align: middle;\n",
       "    }\n",
       "\n",
       "    .dataframe tbody tr th {\n",
       "        vertical-align: top;\n",
       "    }\n",
       "\n",
       "    .dataframe thead th {\n",
       "        text-align: right;\n",
       "    }\n",
       "</style>\n",
       "<table border=\"1\" class=\"dataframe\">\n",
       "  <thead>\n",
       "    <tr style=\"text-align: right;\">\n",
       "      <th></th>\n",
       "      <th>idpersona</th>\n",
       "      <th>tipo_persona</th>\n",
       "      <th>nombre</th>\n",
       "      <th>tipo_documento</th>\n",
       "      <th>num_documento</th>\n",
       "      <th>direccion</th>\n",
       "      <th>telefono</th>\n",
       "      <th>email</th>\n",
       "    </tr>\n",
       "  </thead>\n",
       "  <tbody>\n",
       "    <tr>\n",
       "      <th>0</th>\n",
       "      <td>1536244591</td>\n",
       "      <td>empleado</td>\n",
       "      <td>Dillon Frost</td>\n",
       "      <td>Pasaporte</td>\n",
       "      <td>162945912451763</td>\n",
       "      <td>440 Megan Manors\\nSarahstad, SC 64628</td>\n",
       "      <td>38089217</td>\n",
       "      <td>ashley36@hotmail.com</td>\n",
       "    </tr>\n",
       "    <tr>\n",
       "      <th>1</th>\n",
       "      <td>1268532496</td>\n",
       "      <td>cliente</td>\n",
       "      <td>Matthew Richards</td>\n",
       "      <td>Pasaporte</td>\n",
       "      <td>155290750418394</td>\n",
       "      <td>627 Jean Hill Suite 778\\nWest Tanyaview, WI 52390</td>\n",
       "      <td>36755108</td>\n",
       "      <td>josephacevedo@hotmail.com</td>\n",
       "    </tr>\n",
       "    <tr>\n",
       "      <th>2</th>\n",
       "      <td>1968500916</td>\n",
       "      <td>empleado</td>\n",
       "      <td>Derek Cruz</td>\n",
       "      <td>DNI</td>\n",
       "      <td>193686991975379</td>\n",
       "      <td>055 Cabrera Points Suite 960\\nCindyhaven, WV 4...</td>\n",
       "      <td>36555616</td>\n",
       "      <td>aguirresandra@yahoo.com</td>\n",
       "    </tr>\n",
       "    <tr>\n",
       "      <th>3</th>\n",
       "      <td>1109002691</td>\n",
       "      <td>cliente</td>\n",
       "      <td>Ms. Susan Freeman</td>\n",
       "      <td>DNI</td>\n",
       "      <td>158855813307991</td>\n",
       "      <td>71873 Massey Garden Apt. 052\\nSouth Sarah, MO ...</td>\n",
       "      <td>35166718</td>\n",
       "      <td>bbaker@hotmail.com</td>\n",
       "    </tr>\n",
       "    <tr>\n",
       "      <th>4</th>\n",
       "      <td>1085777313</td>\n",
       "      <td>proveedor</td>\n",
       "      <td>Bethany Woods</td>\n",
       "      <td>Pasaporte</td>\n",
       "      <td>127352387081821</td>\n",
       "      <td>91283 Richard Meadow\\nEast Tonya, MH 15417</td>\n",
       "      <td>34275114</td>\n",
       "      <td>krystalbarber@hotmail.com</td>\n",
       "    </tr>\n",
       "  </tbody>\n",
       "</table>\n",
       "</div>"
      ],
      "text/plain": [
       "    idpersona tipo_persona             nombre tipo_documento    num_documento  \\\n",
       "0  1536244591     empleado       Dillon Frost      Pasaporte  162945912451763   \n",
       "1  1268532496      cliente   Matthew Richards      Pasaporte  155290750418394   \n",
       "2  1968500916     empleado         Derek Cruz            DNI  193686991975379   \n",
       "3  1109002691      cliente  Ms. Susan Freeman            DNI  158855813307991   \n",
       "4  1085777313    proveedor      Bethany Woods      Pasaporte  127352387081821   \n",
       "\n",
       "                                           direccion  telefono  \\\n",
       "0              440 Megan Manors\\nSarahstad, SC 64628  38089217   \n",
       "1  627 Jean Hill Suite 778\\nWest Tanyaview, WI 52390  36755108   \n",
       "2  055 Cabrera Points Suite 960\\nCindyhaven, WV 4...  36555616   \n",
       "3  71873 Massey Garden Apt. 052\\nSouth Sarah, MO ...  35166718   \n",
       "4         91283 Richard Meadow\\nEast Tonya, MH 15417  34275114   \n",
       "\n",
       "                       email  \n",
       "0       ashley36@hotmail.com  \n",
       "1  josephacevedo@hotmail.com  \n",
       "2    aguirresandra@yahoo.com  \n",
       "3         bbaker@hotmail.com  \n",
       "4  krystalbarber@hotmail.com  "
      ]
     },
     "execution_count": 18,
     "metadata": {},
     "output_type": "execute_result"
    }
   ],
   "source": [
    "sql_query = 'SELECT * FROM persona;'\n",
    "df_personas = pd.read_sql(sql_query, postgres_driver)\n",
    "df_personas.head()"
   ]
  },
  {
   "cell_type": "code",
   "execution_count": 19,
   "id": "f4fb0bfb-d736-428f-91d8-76e4ad597877",
   "metadata": {
    "collapsed": false
   },
   "outputs": [
    {
     "data": {
      "text/html": [
       "<div>\n",
       "<style scoped>\n",
       "    .dataframe tbody tr th:only-of-type {\n",
       "        vertical-align: middle;\n",
       "    }\n",
       "\n",
       "    .dataframe tbody tr th {\n",
       "        vertical-align: top;\n",
       "    }\n",
       "\n",
       "    .dataframe thead th {\n",
       "        text-align: right;\n",
       "    }\n",
       "</style>\n",
       "<table border=\"1\" class=\"dataframe\">\n",
       "  <thead>\n",
       "    <tr style=\"text-align: right;\">\n",
       "      <th></th>\n",
       "      <th>idingreso</th>\n",
       "      <th>idproveedor</th>\n",
       "      <th>idusuario</th>\n",
       "      <th>tipo_comprobante</th>\n",
       "      <th>serie_comprobante</th>\n",
       "      <th>num_comprobante</th>\n",
       "      <th>fecha</th>\n",
       "      <th>impuesto</th>\n",
       "      <th>total</th>\n",
       "      <th>estado</th>\n",
       "    </tr>\n",
       "  </thead>\n",
       "  <tbody>\n",
       "    <tr>\n",
       "      <th>0</th>\n",
       "      <td>0</td>\n",
       "      <td>1735433711</td>\n",
       "      <td>5674321</td>\n",
       "      <td>Nota de Crédito</td>\n",
       "      <td>855596</td>\n",
       "      <td>None</td>\n",
       "      <td>2010-06-26</td>\n",
       "      <td>37.16</td>\n",
       "      <td>55055.88</td>\n",
       "      <td>Completada</td>\n",
       "    </tr>\n",
       "    <tr>\n",
       "      <th>1</th>\n",
       "      <td>1</td>\n",
       "      <td>1173940292</td>\n",
       "      <td>1361098</td>\n",
       "      <td>Recibo</td>\n",
       "      <td>938348</td>\n",
       "      <td>None</td>\n",
       "      <td>2010-06-26</td>\n",
       "      <td>76.82</td>\n",
       "      <td>84670.31</td>\n",
       "      <td>Cancelada</td>\n",
       "    </tr>\n",
       "    <tr>\n",
       "      <th>2</th>\n",
       "      <td>2</td>\n",
       "      <td>1469297972</td>\n",
       "      <td>5417720</td>\n",
       "      <td>Boleta de Venta</td>\n",
       "      <td>561283</td>\n",
       "      <td>None</td>\n",
       "      <td>2010-06-26</td>\n",
       "      <td>28.48</td>\n",
       "      <td>14607.33</td>\n",
       "      <td>Completada</td>\n",
       "    </tr>\n",
       "    <tr>\n",
       "      <th>3</th>\n",
       "      <td>3</td>\n",
       "      <td>1516543853</td>\n",
       "      <td>4719555</td>\n",
       "      <td>Factura</td>\n",
       "      <td>232494</td>\n",
       "      <td>None</td>\n",
       "      <td>2010-06-26</td>\n",
       "      <td>90.64</td>\n",
       "      <td>75219.66</td>\n",
       "      <td>Completada</td>\n",
       "    </tr>\n",
       "    <tr>\n",
       "      <th>4</th>\n",
       "      <td>4</td>\n",
       "      <td>1654902231</td>\n",
       "      <td>1729649</td>\n",
       "      <td>Nota de Débito</td>\n",
       "      <td>139725</td>\n",
       "      <td>None</td>\n",
       "      <td>2010-06-26</td>\n",
       "      <td>87.98</td>\n",
       "      <td>89359.46</td>\n",
       "      <td>Completada</td>\n",
       "    </tr>\n",
       "  </tbody>\n",
       "</table>\n",
       "</div>"
      ],
      "text/plain": [
       "   idingreso  idproveedor  idusuario tipo_comprobante serie_comprobante  \\\n",
       "0          0   1735433711    5674321  Nota de Crédito            855596   \n",
       "1          1   1173940292    1361098           Recibo            938348   \n",
       "2          2   1469297972    5417720  Boleta de Venta            561283   \n",
       "3          3   1516543853    4719555          Factura            232494   \n",
       "4          4   1654902231    1729649   Nota de Débito            139725   \n",
       "\n",
       "  num_comprobante       fecha  impuesto     total      estado  \n",
       "0            None  2010-06-26     37.16  55055.88  Completada  \n",
       "1            None  2010-06-26     76.82  84670.31   Cancelada  \n",
       "2            None  2010-06-26     28.48  14607.33  Completada  \n",
       "3            None  2010-06-26     90.64  75219.66  Completada  \n",
       "4            None  2010-06-26     87.98  89359.46  Completada  "
      ]
     },
     "execution_count": 19,
     "metadata": {},
     "output_type": "execute_result"
    }
   ],
   "source": [
    "sql_query = 'SELECT * FROM ingreso;'\n",
    "df_ingreso = pd.read_sql(sql_query, postgres_driver)\n",
    "df_ingreso.head()"
   ]
  },
  {
   "cell_type": "code",
   "execution_count": 20,
   "id": "7256fc2e-ed25-4a6d-ae9f-b71ba06875c9",
   "metadata": {
    "collapsed": false
   },
   "outputs": [],
   "source": [
    "df_ingreso = df_ingreso.rename(columns={'idproveedor': 'idpersona'})"
   ]
  },
  {
   "cell_type": "code",
   "execution_count": 21,
   "id": "76a6b931-95ec-43aa-9501-3fa4a64be077",
   "metadata": {
    "collapsed": false
   },
   "outputs": [
    {
     "data": {
      "text/html": [
       "<div>\n",
       "<style scoped>\n",
       "    .dataframe tbody tr th:only-of-type {\n",
       "        vertical-align: middle;\n",
       "    }\n",
       "\n",
       "    .dataframe tbody tr th {\n",
       "        vertical-align: top;\n",
       "    }\n",
       "\n",
       "    .dataframe thead th {\n",
       "        text-align: right;\n",
       "    }\n",
       "</style>\n",
       "<table border=\"1\" class=\"dataframe\">\n",
       "  <thead>\n",
       "    <tr style=\"text-align: right;\">\n",
       "      <th></th>\n",
       "      <th>idpersona</th>\n",
       "      <th>tipo_persona</th>\n",
       "      <th>nombre</th>\n",
       "      <th>tipo_documento</th>\n",
       "      <th>num_documento</th>\n",
       "      <th>direccion</th>\n",
       "      <th>telefono</th>\n",
       "      <th>email</th>\n",
       "      <th>tipo_comprobante</th>\n",
       "      <th>serie_comprobante</th>\n",
       "      <th>num_comprobante</th>\n",
       "      <th>fecha</th>\n",
       "      <th>impuesto</th>\n",
       "      <th>total</th>\n",
       "      <th>estado</th>\n",
       "    </tr>\n",
       "  </thead>\n",
       "  <tbody>\n",
       "    <tr>\n",
       "      <th>0</th>\n",
       "      <td>1536244591</td>\n",
       "      <td>empleado</td>\n",
       "      <td>Dillon Frost</td>\n",
       "      <td>Pasaporte</td>\n",
       "      <td>162945912451763</td>\n",
       "      <td>440 Megan Manors\\nSarahstad, SC 64628</td>\n",
       "      <td>38089217</td>\n",
       "      <td>ashley36@hotmail.com</td>\n",
       "      <td>Ticket de Venta</td>\n",
       "      <td>897809</td>\n",
       "      <td>None</td>\n",
       "      <td>2010-06-26</td>\n",
       "      <td>98.83</td>\n",
       "      <td>6448.96</td>\n",
       "      <td>Cancelada</td>\n",
       "    </tr>\n",
       "    <tr>\n",
       "      <th>1</th>\n",
       "      <td>1109002691</td>\n",
       "      <td>cliente</td>\n",
       "      <td>Ms. Susan Freeman</td>\n",
       "      <td>DNI</td>\n",
       "      <td>158855813307991</td>\n",
       "      <td>71873 Massey Garden Apt. 052\\nSouth Sarah, MO ...</td>\n",
       "      <td>35166718</td>\n",
       "      <td>bbaker@hotmail.com</td>\n",
       "      <td>Nota de Crédito</td>\n",
       "      <td>568942</td>\n",
       "      <td>None</td>\n",
       "      <td>2010-06-26</td>\n",
       "      <td>93.41</td>\n",
       "      <td>70995.04</td>\n",
       "      <td>Completada</td>\n",
       "    </tr>\n",
       "    <tr>\n",
       "      <th>2</th>\n",
       "      <td>1109002691</td>\n",
       "      <td>cliente</td>\n",
       "      <td>Ms. Susan Freeman</td>\n",
       "      <td>DNI</td>\n",
       "      <td>158855813307991</td>\n",
       "      <td>71873 Massey Garden Apt. 052\\nSouth Sarah, MO ...</td>\n",
       "      <td>35166718</td>\n",
       "      <td>bbaker@hotmail.com</td>\n",
       "      <td>Recibo</td>\n",
       "      <td>204749</td>\n",
       "      <td>None</td>\n",
       "      <td>2010-06-26</td>\n",
       "      <td>65.68</td>\n",
       "      <td>1792.07</td>\n",
       "      <td>Completada</td>\n",
       "    </tr>\n",
       "    <tr>\n",
       "      <th>3</th>\n",
       "      <td>1109002691</td>\n",
       "      <td>cliente</td>\n",
       "      <td>Ms. Susan Freeman</td>\n",
       "      <td>DNI</td>\n",
       "      <td>158855813307991</td>\n",
       "      <td>71873 Massey Garden Apt. 052\\nSouth Sarah, MO ...</td>\n",
       "      <td>35166718</td>\n",
       "      <td>bbaker@hotmail.com</td>\n",
       "      <td>Factura</td>\n",
       "      <td>104596</td>\n",
       "      <td>None</td>\n",
       "      <td>2010-06-26</td>\n",
       "      <td>81.81</td>\n",
       "      <td>17411.70</td>\n",
       "      <td>Cancelada</td>\n",
       "    </tr>\n",
       "    <tr>\n",
       "      <th>4</th>\n",
       "      <td>1926261339</td>\n",
       "      <td>proveedor</td>\n",
       "      <td>Brooke Chang</td>\n",
       "      <td>Pasaporte</td>\n",
       "      <td>185501290907297</td>\n",
       "      <td>74501 Johnson Ramp\\nNathanview, TX 62418</td>\n",
       "      <td>38326477</td>\n",
       "      <td>daniellelane@hotmail.com</td>\n",
       "      <td>Nota de Débito</td>\n",
       "      <td>110259</td>\n",
       "      <td>None</td>\n",
       "      <td>2010-06-26</td>\n",
       "      <td>39.05</td>\n",
       "      <td>67167.20</td>\n",
       "      <td>Completada</td>\n",
       "    </tr>\n",
       "  </tbody>\n",
       "</table>\n",
       "</div>"
      ],
      "text/plain": [
       "    idpersona tipo_persona             nombre tipo_documento    num_documento  \\\n",
       "0  1536244591     empleado       Dillon Frost      Pasaporte  162945912451763   \n",
       "1  1109002691      cliente  Ms. Susan Freeman            DNI  158855813307991   \n",
       "2  1109002691      cliente  Ms. Susan Freeman            DNI  158855813307991   \n",
       "3  1109002691      cliente  Ms. Susan Freeman            DNI  158855813307991   \n",
       "4  1926261339    proveedor       Brooke Chang      Pasaporte  185501290907297   \n",
       "\n",
       "                                           direccion  telefono  \\\n",
       "0              440 Megan Manors\\nSarahstad, SC 64628  38089217   \n",
       "1  71873 Massey Garden Apt. 052\\nSouth Sarah, MO ...  35166718   \n",
       "2  71873 Massey Garden Apt. 052\\nSouth Sarah, MO ...  35166718   \n",
       "3  71873 Massey Garden Apt. 052\\nSouth Sarah, MO ...  35166718   \n",
       "4           74501 Johnson Ramp\\nNathanview, TX 62418  38326477   \n",
       "\n",
       "                      email tipo_comprobante serie_comprobante  \\\n",
       "0      ashley36@hotmail.com  Ticket de Venta            897809   \n",
       "1        bbaker@hotmail.com  Nota de Crédito            568942   \n",
       "2        bbaker@hotmail.com           Recibo            204749   \n",
       "3        bbaker@hotmail.com          Factura            104596   \n",
       "4  daniellelane@hotmail.com   Nota de Débito            110259   \n",
       "\n",
       "  num_comprobante       fecha  impuesto     total      estado  \n",
       "0            None  2010-06-26     98.83   6448.96   Cancelada  \n",
       "1            None  2010-06-26     93.41  70995.04  Completada  \n",
       "2            None  2010-06-26     65.68   1792.07  Completada  \n",
       "3            None  2010-06-26     81.81  17411.70   Cancelada  \n",
       "4            None  2010-06-26     39.05  67167.20  Completada  "
      ]
     },
     "execution_count": 21,
     "metadata": {},
     "output_type": "execute_result"
    }
   ],
   "source": [
    "dimPersonas = df_personas.merge(df_ingreso, how='inner', on='idpersona')\n",
    "dimPersonas.drop(['idingreso', 'idusuario'], axis=1,  inplace=True)\n",
    "dimPersonas.head()"
   ]
  },
  {
   "cell_type": "markdown",
   "id": "beb4a9b7-9b04-4ebe-8a10-bb4b4165e8ca",
   "metadata": {
    "collapsed": false
   },
   "source": [
    "#### Dimensión de Usuario\n"
   ]
  },
  {
   "cell_type": "code",
   "execution_count": null,
   "id": "2681b40d-4cf3-47e7-a219-f88947a97c39",
   "metadata": {
    "collapsed": false
   },
   "outputs": [],
   "source": []
  }
 ],
 "metadata": {
  "kernelspec": {
   "argv": [
    "/Users/luistun/anaconda3/bin/python",
    "-m",
    "ipykernel_launcher",
    "-f",
    "{connection_file}"
   ],
   "display_name": "Python 3 (ipykernel)",
   "env": null,
   "interrupt_mode": "signal",
   "language": "python",
   "metadata": {
    "debugger": true
   },
   "name": "python3"
  },
  "name": "Data_Warehouse.ipynb"
 },
 "nbformat": 4,
 "nbformat_minor": 5
}
