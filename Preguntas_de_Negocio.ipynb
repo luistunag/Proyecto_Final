{
 "cells": [
  {
   "cell_type": "code",
   "execution_count": 1,
   "id": "7ff2529a-8cbb-4223-955b-d8f0130a6a48",
   "metadata": {
    "collapsed": false
   },
   "outputs": [
    {
     "name": "stdout",
     "output_type": "stream",
     "text": [
      "tienda-transactional.cjykcg6gmirx.us-east-2.rds.amazonaws.com\n"
     ]
    },
    {
     "name": "stderr",
     "output_type": "stream",
     "text": [
      "/var/folders/t4/ltm_f1s92xd8rkv3v0nc5ll80000gn/T/ipykernel_18370/1606713047.py:5: FutureWarning: weekofyear and week have been deprecated, please use DatetimeIndex.isocalendar().week instead, which returns a Series. To exactly reproduce the behavior of week and weekofyear and return an Index, you may call pd.Int64Index(idx.isocalendar().week)\n",
      "  dimFecha['week'] = pd.DatetimeIndex(dimFecha['fecha']).week\n"
     ]
    }
   ],
   "source": [
    "%run \"Data_Warehouse.ipynb\""
   ]
  },
  {
   "cell_type": "markdown",
   "id": "09e6c7b1-96d1-419e-9f93-33cc7f65058f",
   "metadata": {
    "collapsed": false
   },
   "source": [
    "#### Pregunta No. 1:\n",
    "Análisis de ventas por categoría de artículo: ¿Cuáles son las categorías de artículo más vendidas? ¿Cómo varía el total de ventas entre estas categorías? ¿Hay alguna categoría que destaque por encima de las demás en términos de ingresos?"
   ]
  },
  {
   "cell_type": "code",
   "execution_count": null,
   "id": "0bacbd79-e498-46b3-9a70-aeabacb14abf",
   "metadata": {
    "collapsed": false
   },
   "outputs": [],
   "source": []
  }
 ],
 "metadata": {
  "kernelspec": {
   "argv": [
    "/Users/luistun/anaconda3/bin/python",
    "-m",
    "ipykernel_launcher",
    "-f",
    "{connection_file}"
   ],
   "display_name": "Python 3 (ipykernel)",
   "env": null,
   "interrupt_mode": "signal",
   "language": "python",
   "metadata": {
    "debugger": true
   },
   "name": "python3"
  },
  "name": "Preguntas_de_Negocio.ipynb"
 },
 "nbformat": 4,
 "nbformat_minor": 5
}
